{
 "cells": [
  {
   "cell_type": "markdown",
   "metadata": {},
   "source": [
    "# Lab 7: Inference and Global Climate Change "
   ]
  },
  {
   "cell_type": "markdown",
   "metadata": {},
   "source": [
    "By the end of this lab, you should know how to:\n",
    "\n",
    "1. Test whether observed data appears to be a random sample from a distribution.\n",
    "2. Analyze a natural experiment.\n",
    "3. Implement and interpret a sign test.\n",
    "4. Create a function to run a general hypothesis test.\n",
    "5. Analyze visualizations and draw conclusions from them."
   ]
  },
  {
   "cell_type": "code",
   "execution_count": 1,
   "metadata": {
    "tags": []
   },
   "outputs": [],
   "source": [
    "name = \"Lexi Yoza\""
   ]
  },
  {
   "cell_type": "code",
   "execution_count": 2,
   "metadata": {
    "tags": []
   },
   "outputs": [],
   "source": [
    "## import statements\n",
    "# These lines load the tests. \n",
    "from gofer.ok import check\n",
    "\n",
    "import numpy as np\n",
    "from datascience import *\n",
    "import pandas as pd\n",
    "import matplotlib\n",
    "%matplotlib inline\n",
    "import matplotlib.pyplot as plt\n",
    "plt.style.use('ggplot')\n",
    "import os\n",
    "user = os.getenv('JUPYTERHUB_USER')"
   ]
  },
  {
   "cell_type": "markdown",
   "metadata": {},
   "source": [
    "## Overview "
   ]
  },
  {
   "cell_type": "markdown",
   "metadata": {},
   "source": [
    "Climate change is usually referring to the general trend of warming temperatures globally.  Along with these increasing temperatures, unusual shifts in trends in weather activity such as hurricanes, storms, winds, etc are also usually classified under climate change.  While the climate can shift due to natural occurrences, scientists have found that human interventions have contributed to the trend of warming.  One explanation for the warming could be increased solar solar activity, however scientists have found that solar activity has not generally increased during the period when temperature has increased.  \n",
    "\n",
    "<img src='solar_temp.jpg' width=\"500\" height=\"340\">\n",
    "\n",
    "Links: [NASA](https://climate.nasa.gov/causes/) [Canada](https://www.canada.ca/en/environment-climate-change/services/climate-change/causes.html)"
   ]
  },
  {
   "cell_type": "markdown",
   "metadata": {},
   "source": [
    "### Data \n",
    "\n",
    "While there's several different metrics we could analyze to make some inferences about overall trends in global climate change, for simplicity's sake we will be focusing on land temperature across different countries.  The original table came from this [database](https://github.com/OpenFloodAI/Climate-Change-Datasets), however it's been reformatted to make the downstream analyses easier.  There are 15 columns: Year, Country, Average Temperature of that country in that year 'avg', and then a column for each month of that year with temperatures.  "
   ]
  },
  {
   "cell_type": "code",
   "execution_count": 3,
   "metadata": {
    "tags": []
   },
   "outputs": [
    {
     "data": {
      "text/html": [
       "<table border=\"1\" class=\"dataframe\">\n",
       "    <thead>\n",
       "        <tr>\n",
       "            <th>year</th> <th>country</th> <th>avg</th> <th>jan</th> <th>feb</th> <th>mar</th> <th>apr</th> <th>may</th> <th>jun</th> <th>jul</th> <th>aug</th> <th>sep</th> <th>oct</th> <th>nov</th> <th>dec</th>\n",
       "        </tr>\n",
       "    </thead>\n",
       "    <tbody>\n",
       "        <tr>\n",
       "            <td>1753</td> <td>Åland                 </td> <td>5.11833</td> <td>-2.412</td> <td>-3.273</td> <td>0.71 </td> <td>2.778 </td> <td>6.226 </td> <td>11.102</td> <td>15.159</td> <td>15.786</td> <td>12.106</td> <td>8.756 </td> <td>2.248 </td> <td>-7.766</td>\n",
       "        </tr>\n",
       "        <tr>\n",
       "            <td>1753</td> <td>Albania               </td> <td>12.557 </td> <td>1.4   </td> <td>2.655 </td> <td>8.505</td> <td>11.541</td> <td>16.642</td> <td>22.098</td> <td>23.532</td> <td>21.77 </td> <td>18.7  </td> <td>13.661</td> <td>7.593 </td> <td>2.587 </td>\n",
       "        </tr>\n",
       "        <tr>\n",
       "            <td>1753</td> <td>Andorra               </td> <td>11.2345</td> <td>0.938 </td> <td>4.083 </td> <td>8.352</td> <td>9.165 </td> <td>13.783</td> <td>19.796</td> <td>21.148</td> <td>18.796</td> <td>16.546</td> <td>11.706</td> <td>5.991 </td> <td>4.51  </td>\n",
       "        </tr>\n",
       "        <tr>\n",
       "            <td>1753</td> <td>Austria               </td> <td>6.13892</td> <td>-6.398</td> <td>-3.537</td> <td>2.681</td> <td>6.498 </td> <td>11.331</td> <td>16.209</td> <td>16.881</td> <td>14.751</td> <td>12.34 </td> <td>7.072 </td> <td>-0.011</td> <td>-4.15 </td>\n",
       "        </tr>\n",
       "        <tr>\n",
       "            <td>1753</td> <td>Belarus               </td> <td>5.65175</td> <td>-7.122</td> <td>-6.956</td> <td>0.706</td> <td>6.768 </td> <td>13.06 </td> <td>16.615</td> <td>18.032</td> <td>16.501</td> <td>12.448</td> <td>6.84  </td> <td>0.024 </td> <td>-9.095</td>\n",
       "        </tr>\n",
       "        <tr>\n",
       "            <td>1753</td> <td>Belgium               </td> <td>9.45708</td> <td>-1.215</td> <td>2.443 </td> <td>6.838</td> <td>8.826 </td> <td>13.042</td> <td>17.602</td> <td>18.072</td> <td>16.203</td> <td>14.761</td> <td>10.332</td> <td>4.143 </td> <td>2.438 </td>\n",
       "        </tr>\n",
       "        <tr>\n",
       "            <td>1753</td> <td>Bosnia And Herzegovina</td> <td>10.3656</td> <td>-1.973</td> <td>0.043 </td> <td>6.558</td> <td>10.293</td> <td>15.253</td> <td>20.463</td> <td>21.589</td> <td>19.567</td> <td>16.607</td> <td>11.343</td> <td>4.776 </td> <td>-0.132</td>\n",
       "        </tr>\n",
       "        <tr>\n",
       "            <td>1753</td> <td>Bulgaria              </td> <td>10.3995</td> <td>-1.841</td> <td>-0.883</td> <td>5.889</td> <td>10.043</td> <td>15.723</td> <td>20.69 </td> <td>22.084</td> <td>20.446</td> <td>17.03 </td> <td>11.668</td> <td>5.201 </td> <td>-1.256</td>\n",
       "        </tr>\n",
       "        <tr>\n",
       "            <td>1753</td> <td>Croatia               </td> <td>11.2875</td> <td>-1.311</td> <td>1.012 </td> <td>7.5  </td> <td>11.318</td> <td>16.33 </td> <td>21.666</td> <td>22.721</td> <td>20.52 </td> <td>17.527</td> <td>12.113</td> <td>5.342 </td> <td>0.712 </td>\n",
       "        </tr>\n",
       "        <tr>\n",
       "            <td>1753</td> <td>Czech Republic        </td> <td>7.49492</td> <td>-4.72 </td> <td>-2.339</td> <td>3.956</td> <td>8.117 </td> <td>12.84 </td> <td>17.184</td> <td>18.175</td> <td>16.392</td> <td>13.701</td> <td>8.464 </td> <td>1.475 </td> <td>-3.306</td>\n",
       "        </tr>\n",
       "    </tbody>\n",
       "</table>\n",
       "<p>... (44320 rows omitted)</p>"
      ],
      "text/plain": [
       "year | country                | avg     | jan    | feb    | mar   | apr    | may    | jun    | jul    | aug    | sep    | oct    | nov    | dec\n",
       "1753 | Åland                  | 5.11833 | -2.412 | -3.273 | 0.71  | 2.778  | 6.226  | 11.102 | 15.159 | 15.786 | 12.106 | 8.756  | 2.248  | -7.766\n",
       "1753 | Albania                | 12.557  | 1.4    | 2.655  | 8.505 | 11.541 | 16.642 | 22.098 | 23.532 | 21.77  | 18.7   | 13.661 | 7.593  | 2.587\n",
       "1753 | Andorra                | 11.2345 | 0.938  | 4.083  | 8.352 | 9.165  | 13.783 | 19.796 | 21.148 | 18.796 | 16.546 | 11.706 | 5.991  | 4.51\n",
       "1753 | Austria                | 6.13892 | -6.398 | -3.537 | 2.681 | 6.498  | 11.331 | 16.209 | 16.881 | 14.751 | 12.34  | 7.072  | -0.011 | -4.15\n",
       "1753 | Belarus                | 5.65175 | -7.122 | -6.956 | 0.706 | 6.768  | 13.06  | 16.615 | 18.032 | 16.501 | 12.448 | 6.84   | 0.024  | -9.095\n",
       "1753 | Belgium                | 9.45708 | -1.215 | 2.443  | 6.838 | 8.826  | 13.042 | 17.602 | 18.072 | 16.203 | 14.761 | 10.332 | 4.143  | 2.438\n",
       "1753 | Bosnia And Herzegovina | 10.3656 | -1.973 | 0.043  | 6.558 | 10.293 | 15.253 | 20.463 | 21.589 | 19.567 | 16.607 | 11.343 | 4.776  | -0.132\n",
       "1753 | Bulgaria               | 10.3995 | -1.841 | -0.883 | 5.889 | 10.043 | 15.723 | 20.69  | 22.084 | 20.446 | 17.03  | 11.668 | 5.201  | -1.256\n",
       "1753 | Croatia                | 11.2875 | -1.311 | 1.012  | 7.5   | 11.318 | 16.33  | 21.666 | 22.721 | 20.52  | 17.527 | 12.113 | 5.342  | 0.712\n",
       "1753 | Czech Republic         | 7.49492 | -4.72  | -2.339 | 3.956 | 8.117  | 12.84  | 17.184 | 18.175 | 16.392 | 13.701 | 8.464  | 1.475  | -3.306\n",
       "... (44320 rows omitted)"
      ]
     },
     "execution_count": 3,
     "metadata": {},
     "output_type": "execute_result"
    }
   ],
   "source": [
    "temps = Table.read_table('temp_per_country.csv')\n",
    "temps"
   ]
  },
  {
   "cell_type": "markdown",
   "metadata": {},
   "source": [
    "### Data Exploration\n",
    "Let's explore this data a bit.  We will start by getting a list of all of the countries. "
   ]
  },
  {
   "cell_type": "code",
   "execution_count": 4,
   "metadata": {
    "tags": []
   },
   "outputs": [
    {
     "data": {
      "text/plain": [
       "array(['Afghanistan', 'Africa', 'Albania', 'Algeria', 'American Samoa',\n",
       "       'Andorra', 'Angola', 'Anguilla', 'Antigua And Barbuda', 'Argentina',\n",
       "       'Armenia', 'Aruba', 'Asia', 'Australia', 'Austria', 'Azerbaijan',\n",
       "       'Bahamas', 'Bahrain', 'Baker Island', 'Bangladesh', 'Barbados',\n",
       "       'Belarus', 'Belgium', 'Belize', 'Benin', 'Bhutan', 'Bolivia',\n",
       "       'Bonaire, Saint Eustatius And Saba', 'Bosnia And Herzegovina',\n",
       "       'Botswana', 'Brazil', 'British Virgin Islands', 'Bulgaria',\n",
       "       'Burkina Faso', 'Burma', 'Burundi', 'Cambodia', 'Cameroon',\n",
       "       'Canada', 'Cape Verde', 'Cayman Islands',\n",
       "       'Central African Republic', 'Chad', 'Chile', 'China',\n",
       "       'Christmas Island', 'Colombia', 'Comoros', 'Congo',\n",
       "       'Congo (Democratic Republic Of The)', 'Costa Rica', 'Croatia',\n",
       "       'Cuba', 'Curaçao', 'Cyprus', 'Czech Republic', \"Côte D'Ivoire\",\n",
       "       'Denmark', 'Denmark (Europe)', 'Djibouti', 'Dominica',\n",
       "       'Dominican Republic', 'Ecuador', 'Egypt', 'El Salvador',\n",
       "       'Equatorial Guinea', 'Eritrea', 'Estonia', 'Ethiopia', 'Europe',\n",
       "       'Falkland Islands (Islas Malvinas)', 'Faroe Islands',\n",
       "       'Federated States Of Micronesia', 'Fiji', 'Finland', 'France',\n",
       "       'France (Europe)', 'French Guiana', 'French Polynesia',\n",
       "       'French Southern And Antarctic Lands', 'Gabon', 'Gambia',\n",
       "       'Gaza Strip', 'Georgia', 'Germany', 'Ghana', 'Greece', 'Greenland',\n",
       "       'Grenada', 'Guadeloupe', 'Guam', 'Guatemala', 'Guernsey', 'Guinea',\n",
       "       'Guinea Bissau', 'Guyana', 'Haiti',\n",
       "       'Heard Island And Mcdonald Islands', 'Honduras', 'Hong Kong',\n",
       "       'Hungary', 'Iceland', 'India', 'Indonesia', 'Iran', 'Iraq',\n",
       "       'Ireland', 'Isle Of Man', 'Israel', 'Italy', 'Jamaica', 'Japan',\n",
       "       'Jersey', 'Jordan', 'Kazakhstan', 'Kenya', 'Kingman Reef',\n",
       "       'Kiribati', 'Kuwait', 'Kyrgyzstan', 'Laos', 'Latvia', 'Lebanon',\n",
       "       'Lesotho', 'Liberia', 'Libya', 'Liechtenstein', 'Lithuania',\n",
       "       'Luxembourg', 'Macau', 'Macedonia', 'Madagascar', 'Malawi',\n",
       "       'Malaysia', 'Mali', 'Malta', 'Martinique', 'Mauritania',\n",
       "       'Mauritius', 'Mayotte', 'Mexico', 'Moldova', 'Monaco', 'Mongolia',\n",
       "       'Montenegro', 'Montserrat', 'Morocco', 'Mozambique', 'Namibia',\n",
       "       'Nepal', 'Netherlands', 'Netherlands (Europe)', 'New Caledonia',\n",
       "       'New Zealand', 'Nicaragua', 'Niger', 'Nigeria', 'Niue',\n",
       "       'North America', 'North Korea', 'Northern Mariana Islands',\n",
       "       'Norway', 'Oceania', 'Oman', 'Pakistan', 'Palau', 'Palestina',\n",
       "       'Palmyra Atoll', 'Panama', 'Papua New Guinea', 'Paraguay', 'Peru',\n",
       "       'Philippines', 'Poland', 'Portugal', 'Puerto Rico', 'Qatar',\n",
       "       'Reunion', 'Romania', 'Russia', 'Rwanda', 'Saint Barthélemy',\n",
       "       'Saint Kitts And Nevis', 'Saint Lucia', 'Saint Martin',\n",
       "       'Saint Pierre And Miquelon', 'Saint Vincent And The Grenadines',\n",
       "       'Samoa', 'San Marino', 'Sao Tome And Principe', 'Saudi Arabia',\n",
       "       'Senegal', 'Serbia', 'Seychelles', 'Sierra Leone', 'Singapore',\n",
       "       'Sint Maarten', 'Slovakia', 'Slovenia', 'Solomon Islands',\n",
       "       'Somalia', 'South Africa', 'South America',\n",
       "       'South Georgia And The South Sandwich Isla', 'South Korea', 'Spain',\n",
       "       'Sri Lanka', 'Sudan', 'Suriname', 'Svalbard And Jan Mayen',\n",
       "       'Swaziland', 'Sweden', 'Switzerland', 'Syria', 'Taiwan',\n",
       "       'Tajikistan', 'Tanzania', 'Thailand', 'Timor Leste', 'Togo',\n",
       "       'Tonga', 'Trinidad And Tobago', 'Tunisia', 'Turkey', 'Turkmenistan',\n",
       "       'Turks And Caicas Islands', 'Uganda', 'Ukraine',\n",
       "       'United Arab Emirates', 'United Kingdom', 'United Kingdom (Europe)',\n",
       "       'United States', 'Uruguay', 'Uzbekistan', 'Venezuela', 'Vietnam',\n",
       "       'Virgin Islands', 'Western Sahara', 'Yemen', 'Zambia', 'Zimbabwe',\n",
       "       'Åland'],\n",
       "      dtype='<U41')"
      ]
     },
     "execution_count": 4,
     "metadata": {},
     "output_type": "execute_result"
    }
   ],
   "source": [
    "np.unique(temps['country'])"
   ]
  },
  {
   "cell_type": "markdown",
   "metadata": {},
   "source": [
    "Noticd that entries are continents, not countries, and there are a few duplicates such Netherlands and Netherlands (Europe). Cleaning the data is virtually always the first step.\n",
    "\n",
    "Let's remove them."
   ]
  },
  {
   "cell_type": "code",
   "execution_count": 5,
   "metadata": {
    "tags": []
   },
   "outputs": [],
   "source": [
    "# Use the where() method in a loop to remove unwanted rows\n",
    "non_countries_and_dups = [\n",
    "    \"Africa\",\n",
    "    \"Denmark (Europe)\",\n",
    "    \"Europe\",\n",
    "    \"France (Europe)\",\n",
    "    \"French Southern And Antarctic Lands\",\n",
    "    \"Kingman Reef\",\n",
    "    \"Netherlands (Europe)\",\n",
    "    \"North America\",\n",
    "    \"Oceania\",\n",
    "]\n",
    "for country in non_countries_and_dups:\n",
    "    temps = temps.where('country', are.not_equal_to(country))"
   ]
  },
  {
   "cell_type": "markdown",
   "metadata": {},
   "source": [
    "## Part 1: Basic Hypothesis Testing"
   ]
  },
  {
   "cell_type": "markdown",
   "metadata": {
    "tags": []
   },
   "source": [
    "### How has the average temperature changed between 1850 and 2000?\n",
    "Has the Earth warmed? If we look at the temperature changes for all of the countries, what will we see?\n",
    "\n",
    "Let's investigate..."
   ]
  },
  {
   "cell_type": "code",
   "execution_count": 6,
   "metadata": {
    "tags": []
   },
   "outputs": [
    {
     "data": {
      "text/html": [
       "<table border=\"1\" class=\"dataframe\">\n",
       "    <thead>\n",
       "        <tr>\n",
       "            <th>country</th> <th>year</th> <th>T1</th> <th>year_2</th> <th>T2</th> <th>T_diff</th>\n",
       "        </tr>\n",
       "    </thead>\n",
       "    <tbody>\n",
       "        <tr>\n",
       "            <td>Afghanistan</td> <td>1850</td> <td>13.3261</td> <td>2000  </td> <td>15.4978</td> <td>2.17175</td>\n",
       "        </tr>\n",
       "        <tr>\n",
       "            <td>Albania    </td> <td>1850</td> <td>11.7347</td> <td>2000  </td> <td>13.7466</td> <td>2.01192</td>\n",
       "        </tr>\n",
       "        <tr>\n",
       "            <td>Algeria    </td> <td>1850</td> <td>22.5873</td> <td>2000  </td> <td>24.0323</td> <td>1.44492</td>\n",
       "        </tr>\n",
       "    </tbody>\n",
       "</table>\n",
       "<p>... (157 rows omitted)</p>"
      ],
      "text/plain": [
       "<IPython.core.display.HTML object>"
      ]
     },
     "metadata": {},
     "output_type": "display_data"
    }
   ],
   "source": [
    "T_1850 = temps.where('year', 1850).select('year', 'country', 'avg')\n",
    "T_2000 = temps.where('year', 2000).select('year', 'country', 'avg')\n",
    "\n",
    "temp_change = T_1850.join('country', T_2000, 'country').relabel('avg', 'T1').relabel('avg_2', 'T2')\n",
    "temp_change = temp_change.with_columns('T_diff', temp_change.column('T2') - temp_change.column('T1'))\n",
    "\n",
    "temp_change.show(3)"
   ]
  },
  {
   "cell_type": "markdown",
   "metadata": {},
   "source": [
    "### <font color=blue> **Question 1.** </font>\n",
    "Calculate the average temperature change across all countries in the data set."
   ]
  },
  {
   "cell_type": "code",
   "execution_count": 7,
   "metadata": {
    "tags": []
   },
   "outputs": [
    {
     "data": {
      "text/plain": [
       "1.4841057291666666"
      ]
     },
     "execution_count": 7,
     "metadata": {},
     "output_type": "execute_result"
    }
   ],
   "source": [
    "#temp_change.column('T_diff')\n",
    "mean_diff = np.average(temp_change.column('T_diff'))\n",
    "mean_diff"
   ]
  },
  {
   "cell_type": "code",
   "execution_count": 8,
   "metadata": {
    "tags": []
   },
   "outputs": [
    {
     "data": {
      "text/html": [
       "\n",
       "    \n",
       "    \n",
       "        <p>All tests passed!</p>\n",
       "    \n",
       "    "
      ],
      "text/plain": [
       "<gofer.ok.OKTestsResult at 0x7976eb643490>"
      ]
     },
     "execution_count": 8,
     "metadata": {},
     "output_type": "execute_result"
    }
   ],
   "source": [
    "check('tests/q1.py')"
   ]
  },
  {
   "cell_type": "markdown",
   "metadata": {},
   "source": [
    "### <font color=blue> **Question 2.** </font>\n",
    "Make a histogram of the temperature changes. The, in markdown cell below  the histogram, describe the distribution. Do you think these changes could be random? Why or why not?"
   ]
  },
  {
   "cell_type": "code",
   "execution_count": 9,
   "metadata": {
    "tags": []
   },
   "outputs": [
    {
     "data": {
      "image/png": "[encoded data removed]",
      "text/plain": [
       "<Figure size 600x400 with 1 Axes>"
      ]
     },
     "metadata": {},
     "output_type": "display_data"
    }
   ],
   "source": [
    "temp_change.hist(\"T_diff\")"
   ]
  },
  {
   "cell_type": "markdown",
   "metadata": {},
   "source": [
    "There is the most countries with a temperature difference of about 1.0. However, overall it is distributed pretty well. I dont think these changes are random, I think they are likely correlated to the pollution levels and green house gas release of certain countries."
   ]
  },
  {
   "cell_type": "markdown",
   "metadata": {},
   "source": [
    "### <font color=blue> **Question 3.** </font>\n",
    "Let's test whether the change in mean temperature between 1850 and 2000 is statistically significant. In the cell below, formulate an hypothesis and a null hypothesis."
   ]
  },
  {
   "cell_type": "markdown",
   "metadata": {
    "tags": []
   },
   "source": [
    "#### Hypothesis:\n",
    "There will be a statistically significant change in temperature between 1850 and 2000.\n",
    "\n",
    "#### Null Hypothesis:\n",
    "There will not be a statistically significant change in temperature between 1850 and 2000."
   ]
  },
  {
   "cell_type": "markdown",
   "metadata": {},
   "source": [
    "## Hypothesis testing\n",
    "**We are going to test null hythosis two ways:<br>**\n",
    "First, we will use a standard paired t-test taught in traditional statistics classes.<br>\n",
    "Second, we will use a simulation approach taught in this class, an approach we will use from now on."
   ]
  },
  {
   "cell_type": "markdown",
   "metadata": {
    "tags": []
   },
   "source": [
    "## What is a \"paired t-test?\"\n",
    "The <i>t</i>-test was developed by a chemist, William Gosset, working for the Guiness brewery in 1908. He didn't want competitors to know the statistical methods he developed were being using at the brewery for quality control, so he published his papers under the pen name \"Student,\" hence the test became knows as the Student t-test.\n",
    "\n",
    "What Gosset shows was that:\n",
    "* **IF** two samples are independent\n",
    "* and **IF** the samples are random\n",
    "* and **IF** both samples come from populations with a normal distribution\n",
    "* and **IF** both populations have approximately the same standard deviation\n",
    "* **THEN** we can calculate the following t-statistic\n",
    "\n",
    "  $$ t = \\frac{\\bar{x_1} - \\bar{x_2}}{SE} $$\n",
    "  \n",
    "with is the difference between the means of the two samples divided by average standard error of the mean, or standard error, for short.\n",
    "\n",
    "$$ SE^2 = \\frac{(SE)_1^2 + (SE)_2^2}{2} $$\n",
    "\n",
    "What is the \"standard error?\" It is sample standard deviation divided by the square root of the number of observations:\n",
    "\n",
    "$$ SE = \\frac{s}{\\sqrt{n}} $$\n",
    "\n",
    "The standard error tells you how much the sample mean would vary if you were to repeat a study using new samples from the same population. Notice that the more data you have in your sample, the smaller the standard error, so the less uncertainty you have in your sample mean.\n",
    "\n",
    "You can think of this this way: the signal in your data is the difference between the two means -- before and after treatment -- or in our case, between two different time periods. The noise is the variation of the data around the the means (standard deviation). If the signal is large compared with the noise, we can reject the null hypothesis, but if difference between the means is small compared with the scatter of the data around the means, the distributions will blur together and we cannot reject the null hypothesis that the observations could be the result of random variation.\n",
    "\n",
    "A **paired t-test** is a variation of the t-test where we are looking at paired data -- measurements are made before after some experiment. For example, patients before and after treatment, or in our case, the annual temperature before and after 164 years of industialization. \n",
    "\n",
    "In this case, the null hypothesis is that the average difference between past and present temperatures is zero. So the t-value becomes.\n",
    "\n",
    "$$ t = \\frac{\\bar{x}_{diff}}{SE} $$\n",
    "\n",
    "Look at this closely. The paired t-value measures how far the average paired differences are from zero relative to the standard error. "
   ]
  },
  {
   "cell_type": "code",
   "execution_count": 60,
   "metadata": {
    "tags": []
   },
   "outputs": [
    {
     "name": "stdout",
     "output_type": "stream",
     "text": [
      "The mean temperature change is: 1.48\n",
      "The standard deviation of the temperature differences is: 0.689\n",
      "The standard error is: 0.0545\n",
      "The degrees of freedom is: 318\n"
     ]
    }
   ],
   "source": [
    "s1 = np.std(temp_change.column('T1'))\n",
    "s2 = np.std(temp_change.column('T2'))\n",
    "s = np.sqrt((s1**2 + s2**2) / 2)\n",
    "dof = 2 * temp_change.num_rows - 2\n",
    "\n",
    "mean_diff = np.mean(temp_change.column('T_diff'))\n",
    "s = np.std(temp_change.column('T_diff'))\n",
    "n = temp_change.num_rows\n",
    "std_error = s / np.sqrt(n)\n",
    "\n",
    "print(f'The mean temperature change is: {mean_diff:.2f}')\n",
    "print(f'The standard deviation of the temperature differences is: {s:.3f}')\n",
    "print(f'The standard error is: {std_error:.4f}')\n",
    "print(f'The degrees of freedom is: {dof}')"
   ]
  },
  {
   "cell_type": "markdown",
   "metadata": {
    "tags": []
   },
   "source": [
    "### <font color=blue> **Question 4.** </font>\n",
    "Calculate the t-value."
   ]
  },
  {
   "cell_type": "code",
   "execution_count": 11,
   "metadata": {
    "tags": []
   },
   "outputs": [
    {
     "name": "stdout",
     "output_type": "stream",
     "text": [
      "The t value is: 27.2363666509\n"
     ]
    }
   ],
   "source": [
    "t = mean_diff/std_error\n",
    "print(\"The t value is:\", t)"
   ]
  },
  {
   "cell_type": "code",
   "execution_count": 12,
   "metadata": {
    "tags": []
   },
   "outputs": [
    {
     "data": {
      "text/html": [
       "\n",
       "    \n",
       "    \n",
       "        <p>All tests passed!</p>\n",
       "    \n",
       "    "
      ],
      "text/plain": [
       "<gofer.ok.OKTestsResult at 0x79773d78fbb0>"
      ]
     },
     "execution_count": 12,
     "metadata": {},
     "output_type": "execute_result"
    }
   ],
   "source": [
    "check('tests/q4.py')"
   ]
  },
  {
   "cell_type": "markdown",
   "metadata": {
    "tags": []
   },
   "source": [
    "### **Find the p-value** \n",
    "This is where the magic occurs in traditional statistics classes. \n",
    "    \n",
    "**Magical Degrees of freedom:** You need to know the \"degrees of freedom,\" which is number of sample points in your samples minus the number of statistics you have already used calculated using the data. (Note: for large data sets the number of degrees of freedom is nearly equal to the number of observations). You estimated the mean and the standard deviation, so above we subtracted 2 from the number of observations.\n",
    "\n",
    "**Magical p-values:**\n",
    "Now that you have a t-statistic and the degrees of freedom, can use a table or [an online calculator](https://www.statology.org/t-score-p-value-calculator/) to find the p-value and enter it below, or you can look up values in a table such as [Students-t-table-one-tailed-two-tailed.](https://postimg.cc/RNrSSGdv). Values of the t-statistic that are greater then or equal to the value in the table have a maximal value of p from the table. For example, with 10 degrees of freedom and a t-statistic of 2.30 we exceed the critical value of 2.23 but are less then the value of 3.17 so the p-value is less then 0.05 but greater then 0.01. When the degrees of freedom reaches the bottom of the table then the t-distribution is nearly equal to the normal distribution and we use the values in the row with degrees of freedom labelled $\\infty$."
   ]
  },
  {
   "cell_type": "markdown",
   "metadata": {},
   "source": [
    "<br>**<center>Critical Values of <i>t**\n",
    "    <center>See: [NIST](https://www.itl.nist.gov/div898/handbook/eda/section3/eda3672.htm)\n",
    "\n",
    "|$\\nu$<br>degrees of freedom|95%<br>p = 0.05|99%<br>p = 0.01|\n",
    "|:-:|:--|:--|\n",
    "|2|4.303|9.92|\n",
    "|3|3.18|5.84|\n",
    "|4|2.78|4.60|\n",
    "|5|2.57|4.03|\n",
    "|6|2.45|3.71|\n",
    "|7|2.36|3.50|\n",
    "|8|2.31|3.36|\n",
    "|9|2.26|3.25|\n",
    "|10|2.23|3.17|\n",
    "|15|2.13|2.95|\n",
    "|20|2.09|2.85|\n",
    "|30|2.04|2.75|\n",
    "|$\\infty$|1.96|2.58|\n",
    "\n",
    "\n"
   ]
  },
  {
   "cell_type": "markdown",
   "metadata": {},
   "source": [
    "### <font color=blue> **Question 5.** </font>\n",
    "The p-value is the probability that the observed temperature increases are random. Obtain an estimate of this value from the table above or the linked tables above. Based on the p-value do we accept or reject the null hypothesis?  Explain in the cell below the check of the p-value."
   ]
  },
  {
   "cell_type": "code",
   "execution_count": 13,
   "metadata": {
    "tags": []
   },
   "outputs": [],
   "source": [
    "p = 0.0005"
   ]
  },
  {
   "cell_type": "code",
   "execution_count": 14,
   "metadata": {
    "tags": []
   },
   "outputs": [
    {
     "data": {
      "text/html": [
       "\n",
       "    \n",
       "    \n",
       "        <p>All tests passed!</p>\n",
       "    \n",
       "    "
      ],
      "text/plain": [
       "<gofer.ok.OKTestsResult at 0x7976eae227a0>"
      ]
     },
     "execution_count": 14,
     "metadata": {},
     "output_type": "execute_result"
    }
   ],
   "source": [
    "check('tests/q5.py')"
   ]
  },
  {
   "cell_type": "markdown",
   "metadata": {},
   "source": [
    "<font color='blue'>**Can we reject the null hypothesis? Why or why not?**"
   ]
  },
  {
   "cell_type": "markdown",
   "metadata": {},
   "source": [
    "We can reject the null hypothesis because the t value is greater than the t at p=0.01 and with 2 degrees of freedom. "
   ]
  },
  {
   "cell_type": "markdown",
   "metadata": {},
   "source": [
    "## Simulation Approach\n",
    "Now we will use the second approach to finding a p-value. No formulas, no tables of critical values, no magic, just simulation. \n",
    "\n",
    "We have paired temperatures, but under the null hypothesis it should make no difference which of the two temperatures for each country we assign to 1850 and which to 2000, because the null hypothesis assumes no global warming. This is analogous to testing a drug. Under the null hypothesis it would not matter which patient we assign to the control group and which to the treatment group because the null hypothesis is that the drug has no effect.\n",
    "\n",
    "To simulate this, for each country we randomly assign one of the two temperatures to 1850 and the other to 2000. We then calculate the mean temperature difference. We do this over and over, saving the mean temperature difference each time. This way we build up a distribution of mean temperature differences assuming no global warming. Once we have that distribution, we calculate the p-value as the fraction of the simulated mean differences are as large or larger than the observed mean difference. If this happened one in a hundred times, we'd say the p-value was 1%.\n",
    "\n",
    "To randomly change the order of T1 and T1, we can using np.random.shuffle(), a function the randomly shuffles the order of an array of numbers, though in this case each array will have just two values: the average temperature in 1850 and average temperature in 2000."
   ]
  },
  {
   "cell_type": "code",
   "execution_count": 15,
   "metadata": {
    "tags": []
   },
   "outputs": [],
   "source": [
    "def shuffle_diff(T1, T2):\n",
    "    '''\n",
    "    This function takes two values and returns randomly either:\n",
    "    (T1 - T2) or (T2 - T1) with equal probability.\n",
    "    '''\n",
    "    paired_temperatures = make_array(T1, T2)\n",
    "    np.random.shuffle(paired_temperatures)\n",
    "    return paired_temperatures[0] - paired_temperatures[1]"
   ]
  },
  {
   "cell_type": "code",
   "execution_count": 16,
   "metadata": {
    "tags": []
   },
   "outputs": [
    {
     "name": "stdout",
     "output_type": "stream",
     "text": [
      "1\n",
      "-1\n",
      "-1\n",
      "-1\n",
      "1\n",
      "-1\n",
      "1\n",
      "1\n",
      "1\n",
      "-1\n"
     ]
    }
   ],
   "source": [
    "# Test the function\n",
    "T1 = 1\n",
    "T2 = 2\n",
    "for _ in np.arange(10):\n",
    "    print(shuffle_diff(T1, T2))"
   ]
  },
  {
   "cell_type": "code",
   "execution_count": 17,
   "metadata": {
    "tags": []
   },
   "outputs": [
    {
     "data": {
      "text/html": [
       "<table border=\"1\" class=\"dataframe\">\n",
       "    <thead>\n",
       "        <tr>\n",
       "            <th>country</th> <th>year</th> <th>T1</th> <th>year_2</th> <th>T2</th> <th>T_diff</th> <th>T_diff_sim</th>\n",
       "        </tr>\n",
       "    </thead>\n",
       "    <tbody>\n",
       "        <tr>\n",
       "            <td>Afghanistan        </td> <td>1850</td> <td>13.3261</td> <td>2000  </td> <td>15.4978</td> <td>2.17175 </td> <td>-2.17175  </td>\n",
       "        </tr>\n",
       "        <tr>\n",
       "            <td>Albania            </td> <td>1850</td> <td>11.7347</td> <td>2000  </td> <td>13.7466</td> <td>2.01192 </td> <td>-2.01192  </td>\n",
       "        </tr>\n",
       "        <tr>\n",
       "            <td>Algeria            </td> <td>1850</td> <td>22.5873</td> <td>2000  </td> <td>24.0323</td> <td>1.44492 </td> <td>1.44492   </td>\n",
       "        </tr>\n",
       "        <tr>\n",
       "            <td>Andorra            </td> <td>1850</td> <td>10.6517</td> <td>2000  </td> <td>12.3119</td> <td>1.66017 </td> <td>1.66017   </td>\n",
       "        </tr>\n",
       "        <tr>\n",
       "            <td>Anguilla           </td> <td>1850</td> <td>26.1063</td> <td>2000  </td> <td>27.0528</td> <td>0.946417</td> <td>0.946417  </td>\n",
       "        </tr>\n",
       "        <tr>\n",
       "            <td>Antigua And Barbuda</td> <td>1850</td> <td>25.9333</td> <td>2000  </td> <td>26.8921</td> <td>0.958833</td> <td>-0.958833 </td>\n",
       "        </tr>\n",
       "        <tr>\n",
       "            <td>Armenia            </td> <td>1850</td> <td>7.79317</td> <td>2000  </td> <td>9.91817</td> <td>2.125   </td> <td>-2.125    </td>\n",
       "        </tr>\n",
       "        <tr>\n",
       "            <td>Aruba              </td> <td>1850</td> <td>27.4382</td> <td>2000  </td> <td>28.128 </td> <td>0.689833</td> <td>0.689833  </td>\n",
       "        </tr>\n",
       "        <tr>\n",
       "            <td>Asia               </td> <td>1850</td> <td>6.58675</td> <td>2000  </td> <td>8.25258</td> <td>1.66583 </td> <td>1.66583   </td>\n",
       "        </tr>\n",
       "        <tr>\n",
       "            <td>Austria            </td> <td>1850</td> <td>5.53667</td> <td>2000  </td> <td>8.08492</td> <td>2.54825 </td> <td>-2.54825  </td>\n",
       "        </tr>\n",
       "    </tbody>\n",
       "</table>\n",
       "<p>... (150 rows omitted)</p>"
      ],
      "text/plain": [
       "<IPython.core.display.HTML object>"
      ]
     },
     "metadata": {},
     "output_type": "display_data"
    }
   ],
   "source": [
    "# Test applying the function to our data table\n",
    "temp_change_simulate = temp_change.with_columns('T_diff_sim', temp_change.apply(shuffle_diff, 'T1', 'T2'))\n",
    "temp_change_simulate.show(10)"
   ]
  },
  {
   "cell_type": "markdown",
   "metadata": {},
   "source": [
    "### <font color=blue> **Question 5.** </font>\n",
    "Explain why in the table above the sign of T_diff and T_diff_sim is sometimes the same and sometimes reversed."
   ]
  },
  {
   "cell_type": "markdown",
   "metadata": {},
   "source": [
    "It is sometimes negative because it will randomly switch T1 and T2 so if the higher value, usually T2, is first then the value will be negative, because a value minus a higher value is negative."
   ]
  },
  {
   "cell_type": "code",
   "execution_count": 21,
   "metadata": {
    "tags": []
   },
   "outputs": [],
   "source": [
    "# Simulate doing this over and over.\n",
    "# Each iteration we shuffle the order of the paired temperatures.\n",
    "# Store each simulated mean of all the temperature differences in the list: \"simulated_diffs\"\n",
    "num_simulations = 10000\n",
    "simulated_diffs = []\n",
    "for _ in np.arange(num_simulations):\n",
    "    temp_change_simulate = temp_change.with_columns('T_diff_sim', temp_change.apply(shuffle_diff, 'T1', 'T2'))\n",
    "    simulated_diffs.append(np.mean(temp_change_simulate.column('T_diff_sim'))) "
   ]
  },
  {
   "cell_type": "markdown",
   "metadata": {},
   "source": [
    "### <font color=blue> **Question 6.** </font>\n",
    "Make a histogram of simulated_diffs. *Hint*: You can either use matplotlib commands directly, or you can put the simulated differences into a table and use the .hist() method."
   ]
  },
  {
   "cell_type": "code",
   "execution_count": 19,
   "metadata": {
    "tags": []
   },
   "outputs": [
    {
     "data": {
      "image/png": "[encoded data removed]",
      "text/plain": [
       "<Figure size 600x400 with 1 Axes>"
      ]
     },
     "metadata": {},
     "output_type": "display_data"
    }
   ],
   "source": [
    "temp_change_simulate.hist('T_diff_sim')"
   ]
  },
  {
   "cell_type": "markdown",
   "metadata": {},
   "source": [
    "### <font color=blue> **Question 7.** </font>\n",
    "The p-value is the fraction of temperature diffences simulates under the null hypothesis that greater than or equal to the observed average temperature change between 1850 and 2000.\n",
    "\n",
    "Calculate the p-value."
   ]
  },
  {
   "cell_type": "code",
   "execution_count": 22,
   "metadata": {
    "tags": []
   },
   "outputs": [
    {
     "name": "stdout",
     "output_type": "stream",
     "text": [
      "P-value from simulation: -1.0508291641522822\n"
     ]
    }
   ],
   "source": [
    "s_sim = np.std(temp_change_simulate.column('T_diff_sim'))\n",
    "n_sim = temp_change_simulate.num_rows\n",
    "std_error_sim = s_sim / np.sqrt(n_sim)\n",
    "\n",
    "p_val_simulation = (np.average(temp_change_simulate.column('T_diff_sim')))/(std_error_sim)\n",
    "print(f\"P-value from simulation: {p_val_simulation}\")    "
   ]
  },
  {
   "cell_type": "code",
   "execution_count": 23,
   "metadata": {
    "tags": []
   },
   "outputs": [
    {
     "data": {
      "text/html": [
       "\n",
       "    \n",
       "    \n",
       "        <p>All tests passed!</p>\n",
       "    \n",
       "    "
      ],
      "text/plain": [
       "<gofer.ok.OKTestsResult at 0x7976eaf6dba0>"
      ]
     },
     "execution_count": 23,
     "metadata": {},
     "output_type": "execute_result"
    }
   ],
   "source": [
    "check('tests/q7.py')"
   ]
  },
  {
   "cell_type": "markdown",
   "metadata": {},
   "source": [
    "## NULL Hypothesis rejected!\n",
    "The histogram shows the distribution of possible temperature changes under the null hypothesis. The blue triangle show the actual mean change in temperature. We see that the average of the actual change in temperatures from 1950 to 2000 lies well beyond the distribution of differences we simulated assuming no global warming. Again, the p-value virually zero, so we reject the null hypothesis. Yes, the planet is warming."
   ]
  },
  {
   "cell_type": "code",
   "execution_count": 24,
   "metadata": {
    "tags": []
   },
   "outputs": [
    {
     "data": {
      "image/png": "[encoded data removed]",
      "text/plain": [
       "<Figure size 640x480 with 1 Axes>"
      ]
     },
     "metadata": {},
     "output_type": "display_data"
    }
   ],
   "source": [
    "plt.hist(simulated_diffs, bins=20)\n",
    "plt.plot(mean_diff, 0, '^', markersize=20);"
   ]
  },
  {
   "cell_type": "markdown",
   "metadata": {},
   "source": [
    "### <font color=blue> **Question 8.** </font>\n",
    "**<font color=blue> Which approach do you prefer? <font>**\n",
    "    \n",
    "**Do you wish this class taught you a bunch of statistical equations, the underlying assumptions and rules for when to use each test, or do you prefer to learn a little Python and test hypotheses by running simulations?** \n",
    "    \n",
    "Learn the equations or learn to code? Which do you prefer and why? We are really curious.<br>\n",
    "Use the markdown cell below for your answer. "
   ]
  },
  {
   "cell_type": "markdown",
   "metadata": {},
   "source": [
    "Learning code is much more efficient. Once you learn the code it allows you to quickly analyze data. The code part is really hard though."
   ]
  },
  {
   "cell_type": "markdown",
   "metadata": {},
   "source": [
    "To see another example hypothesis testing using simulation, [read this chapter](https://inferentialthinking.com/chapters/12/3/Deflategate.html?highlight=t+testz)\n",
    "in your textbook about the football controvery known as \"deflategate.\""
   ]
  },
  {
   "cell_type": "markdown",
   "metadata": {},
   "source": [
    "## Part 2: Testing a trend"
   ]
  },
  {
   "cell_type": "markdown",
   "metadata": {},
   "source": [
    "### <font color=blue> **Question 9.** </font>\n",
    "The cell below creates a pivot table with years as the rows and each country as a new column. We use the 'avg' column which contains the  average annual temperature. "
   ]
  },
  {
   "cell_type": "code",
   "execution_count": 25,
   "metadata": {
    "tags": []
   },
   "outputs": [
    {
     "data": {
      "text/html": [
       "<table border=\"1\" class=\"dataframe\">\n",
       "    <thead>\n",
       "        <tr>\n",
       "            <th>year</th> <th>Afghanistan</th> <th>Albania</th> <th>Algeria</th> <th>American Samoa</th> <th>Andorra</th> <th>Angola</th> <th>Anguilla</th> <th>Antigua And Barbuda</th> <th>Argentina</th> <th>Armenia</th> <th>Aruba</th> <th>Asia</th> <th>Australia</th> <th>Austria</th> <th>Azerbaijan</th> <th>Bahamas</th> <th>Bahrain</th> <th>Baker Island</th> <th>Bangladesh</th> <th>Barbados</th> <th>Belarus</th> <th>Belgium</th> <th>Belize</th> <th>Benin</th> <th>Bhutan</th> <th>Bolivia</th> <th>Bonaire, Saint Eustatius And Saba</th> <th>Bosnia And Herzegovina</th> <th>Botswana</th> <th>Brazil</th> <th>British Virgin Islands</th> <th>Bulgaria</th> <th>Burkina Faso</th> <th>Burma</th> <th>Burundi</th> <th>Cambodia</th> <th>Cameroon</th> <th>Canada</th> <th>Cape Verde</th> <th>Cayman Islands</th> <th>Central African Republic</th> <th>Chad</th> <th>Chile</th> <th>China</th> <th>Christmas Island</th> <th>Colombia</th> <th>Comoros</th> <th>Congo</th> <th>Congo (Democratic Republic Of The)</th> <th>Costa Rica</th> <th>Croatia</th> <th>Cuba</th> <th>Curaçao</th> <th>Cyprus</th> <th>Czech Republic</th> <th>Côte D'Ivoire</th> <th>Denmark</th> <th>Djibouti</th> <th>Dominica</th> <th>Dominican Republic</th> <th>Ecuador</th> <th>Egypt</th> <th>El Salvador</th> <th>Equatorial Guinea</th> <th>Eritrea</th> <th>Estonia</th> <th>Ethiopia</th> <th>Falkland Islands (Islas Malvinas)</th> <th>Faroe Islands</th> <th>Federated States Of Micronesia</th> <th>Fiji</th> <th>Finland</th> <th>France</th> <th>French Guiana</th> <th>French Polynesia</th> <th>Gabon</th> <th>Gambia</th> <th>Gaza Strip</th> <th>Georgia</th> <th>Germany</th> <th>Ghana</th> <th>Greece</th> <th>Greenland</th> <th>Grenada</th> <th>Guadeloupe</th> <th>Guam</th> <th>Guatemala</th> <th>Guernsey</th> <th>Guinea</th> <th>Guinea Bissau</th> <th>Guyana</th> <th>Haiti</th> <th>Heard Island And Mcdonald Islands</th> <th>Honduras</th> <th>Hong Kong</th> <th>Hungary</th> <th>Iceland</th> <th>India</th> <th>Indonesia</th> <th>Iran</th> <th>Iraq</th> <th>Ireland</th> <th>Isle Of Man</th> <th>Israel</th> <th>Italy</th> <th>Jamaica</th> <th>Japan</th> <th>Jersey</th> <th>Jordan</th> <th>Kazakhstan</th> <th>Kenya</th> <th>Kiribati</th> <th>Kuwait</th> <th>Kyrgyzstan</th> <th>Laos</th> <th>Latvia</th> <th>Lebanon</th> <th>Lesotho</th> <th>Liberia</th> <th>Libya</th> <th>Liechtenstein</th> <th>Lithuania</th> <th>Luxembourg</th> <th>Macau</th> <th>Macedonia</th> <th>Madagascar</th> <th>Malawi</th> <th>Malaysia</th> <th>Mali</th> <th>Malta</th> <th>Martinique</th> <th>Mauritania</th> <th>Mauritius</th> <th>Mayotte</th> <th>Mexico</th> <th>Moldova</th> <th>Monaco</th> <th>Mongolia</th> <th>Montenegro</th> <th>Montserrat</th> <th>Morocco</th> <th>Mozambique</th> <th>Namibia</th> <th>Nepal</th> <th>Netherlands</th> <th>New Caledonia</th> <th>New Zealand</th> <th>Nicaragua</th> <th>Niger</th> <th>Nigeria</th> <th>Niue</th> <th>North Korea</th> <th>Northern Mariana Islands</th> <th>Norway</th> <th>Oman</th> <th>Pakistan</th> <th>Palau</th> <th>Palestina</th> <th>Palmyra Atoll</th> <th>Panama</th> <th>Papua New Guinea</th> <th>Paraguay</th> <th>Peru</th> <th>Philippines</th> <th>Poland</th> <th>Portugal</th> <th>Puerto Rico</th> <th>Qatar</th> <th>Reunion</th> <th>Romania</th> <th>Russia</th> <th>Rwanda</th> <th>Saint Barthélemy</th> <th>Saint Kitts And Nevis</th> <th>Saint Lucia</th> <th>Saint Martin</th> <th>Saint Pierre And Miquelon</th> <th>Saint Vincent And The Grenadines</th> <th>Samoa</th> <th>San Marino</th> <th>Sao Tome And Principe</th> <th>Saudi Arabia</th> <th>Senegal</th> <th>Serbia</th> <th>Seychelles</th> <th>Sierra Leone</th> <th>Singapore</th> <th>Sint Maarten</th> <th>Slovakia</th> <th>Slovenia</th> <th>Solomon Islands</th> <th>Somalia</th> <th>South Africa</th> <th>South America</th> <th>South Georgia And The South Sandwich Isla</th> <th>South Korea</th> <th>Spain</th> <th>Sri Lanka</th> <th>Sudan</th> <th>Suriname</th> <th>Svalbard And Jan Mayen</th> <th>Swaziland</th> <th>Sweden</th> <th>Switzerland</th> <th>Syria</th> <th>Taiwan</th> <th>Tajikistan</th> <th>Tanzania</th> <th>Thailand</th> <th>Timor Leste</th> <th>Togo</th> <th>Tonga</th> <th>Trinidad And Tobago</th> <th>Tunisia</th> <th>Turkey</th> <th>Turkmenistan</th> <th>Turks And Caicas Islands</th> <th>Uganda</th> <th>Ukraine</th> <th>United Arab Emirates</th> <th>United Kingdom</th> <th>United Kingdom (Europe)</th> <th>United States</th> <th>Uruguay</th> <th>Uzbekistan</th> <th>Venezuela</th> <th>Vietnam</th> <th>Virgin Islands</th> <th>Western Sahara</th> <th>Yemen</th> <th>Zambia</th> <th>Zimbabwe</th> <th>Åland</th>\n",
       "        </tr>\n",
       "    </thead>\n",
       "    <tbody>\n",
       "        <tr>\n",
       "            <td>1753</td> <td>0          </td> <td>12.557 </td> <td>0      </td> <td>0             </td> <td>11.2345</td> <td>0     </td> <td>0       </td> <td>0                  </td> <td>0        </td> <td>0      </td> <td>0    </td> <td>0   </td> <td>0        </td> <td>6.13892</td> <td>0         </td> <td>0      </td> <td>0      </td> <td>0           </td> <td>0         </td> <td>0       </td> <td>5.65175</td> <td>9.45708</td> <td>0     </td> <td>0    </td> <td>0     </td> <td>0      </td> <td>0                                </td> <td>10.3656               </td> <td>0       </td> <td>0     </td> <td>0                     </td> <td>10.3995 </td> <td>0           </td> <td>0    </td> <td>0      </td> <td>0       </td> <td>0       </td> <td>0     </td> <td>0         </td> <td>0             </td> <td>0                       </td> <td>0   </td> <td>0    </td> <td>0    </td> <td>0               </td> <td>0       </td> <td>0      </td> <td>0    </td> <td>0                                 </td> <td>0         </td> <td>11.2875</td> <td>0   </td> <td>0      </td> <td>0     </td> <td>7.49492       </td> <td>0            </td> <td>0      </td> <td>0       </td> <td>0       </td> <td>0                 </td> <td>0      </td> <td>0    </td> <td>0          </td> <td>0                </td> <td>0      </td> <td>4.6585 </td> <td>0       </td> <td>0                                </td> <td>6.49958      </td> <td>0                             </td> <td>0   </td> <td>1.12117  </td> <td>12.7718</td> <td>0            </td> <td>0               </td> <td>0    </td> <td>0     </td> <td>0         </td> <td>0      </td> <td>8.02917</td> <td>0    </td> <td>14.7132</td> <td>0        </td> <td>0      </td> <td>0         </td> <td>0   </td> <td>0        </td> <td>10.926  </td> <td>0     </td> <td>0            </td> <td>0     </td> <td>0    </td> <td>0                                </td> <td>0       </td> <td>0        </td> <td>9.61875</td> <td>1.3155  </td> <td>0    </td> <td>0        </td> <td>0   </td> <td>0   </td> <td>9.36908</td> <td>9.30625    </td> <td>0     </td> <td>12.7374</td> <td>0      </td> <td>0    </td> <td>10.926 </td> <td>0     </td> <td>0         </td> <td>0    </td> <td>0       </td> <td>0     </td> <td>0         </td> <td>0   </td> <td>5.13533</td> <td>0      </td> <td>0      </td> <td>0      </td> <td>0    </td> <td>4.6125       </td> <td>5.70917  </td> <td>9.13775   </td> <td>0    </td> <td>10.3112  </td> <td>0         </td> <td>0     </td> <td>0       </td> <td>0   </td> <td>18.4743</td> <td>0         </td> <td>0         </td> <td>0        </td> <td>0      </td> <td>0     </td> <td>8.81283</td> <td>9.06558</td> <td>0       </td> <td>10.1555   </td> <td>0         </td> <td>0      </td> <td>0         </td> <td>0      </td> <td>0    </td> <td>9.44008    </td> <td>0            </td> <td>0          </td> <td>0        </td> <td>0    </td> <td>0      </td> <td>0   </td> <td>0          </td> <td>0                       </td> <td>-0.0538333</td> <td>0   </td> <td>0       </td> <td>0    </td> <td>0        </td> <td>0            </td> <td>0     </td> <td>0               </td> <td>0       </td> <td>0   </td> <td>0          </td> <td>7.26283</td> <td>14.6823 </td> <td>0          </td> <td>0    </td> <td>0      </td> <td>8.65533</td> <td>0     </td> <td>0     </td> <td>0               </td> <td>0                    </td> <td>0          </td> <td>0           </td> <td>4.21583                  </td> <td>0                               </td> <td>0    </td> <td>13.8162   </td> <td>0                    </td> <td>0           </td> <td>0      </td> <td>9.91017</td> <td>0         </td> <td>0           </td> <td>0        </td> <td>0           </td> <td>7.39567 </td> <td>9.61117 </td> <td>0              </td> <td>0      </td> <td>0           </td> <td>0            </td> <td>0                                        </td> <td>0          </td> <td>13.6281</td> <td>0        </td> <td>0    </td> <td>0       </td> <td>0                     </td> <td>0        </td> <td>2.19492</td> <td>6.995      </td> <td>0    </td> <td>0     </td> <td>0         </td> <td>0       </td> <td>0       </td> <td>0          </td> <td>0   </td> <td>0    </td> <td>0                  </td> <td>19.9612</td> <td>0     </td> <td>0           </td> <td>0                       </td> <td>0     </td> <td>7.52508</td> <td>0                   </td> <td>8.42608       </td> <td>8.59308                </td> <td>0            </td> <td>0      </td> <td>0         </td> <td>0        </td> <td>0      </td> <td>0             </td> <td>0             </td> <td>0    </td> <td>0     </td> <td>0       </td> <td>5.11833</td>\n",
       "        </tr>\n",
       "        <tr>\n",
       "            <td>1754</td> <td>0          </td> <td>12.5482</td> <td>0      </td> <td>0             </td> <td>11.1162</td> <td>0     </td> <td>0       </td> <td>0                  </td> <td>0        </td> <td>0      </td> <td>0    </td> <td>0   </td> <td>0        </td> <td>5.90733</td> <td>0         </td> <td>0      </td> <td>0      </td> <td>0           </td> <td>0         </td> <td>0       </td> <td>5.69292</td> <td>9.13792</td> <td>0     </td> <td>0    </td> <td>0     </td> <td>0      </td> <td>0                                </td> <td>10.2522               </td> <td>0       </td> <td>0     </td> <td>0                     </td> <td>10.4567 </td> <td>0           </td> <td>0    </td> <td>0      </td> <td>0       </td> <td>0       </td> <td>0     </td> <td>0         </td> <td>0             </td> <td>0                       </td> <td>0   </td> <td>0    </td> <td>0    </td> <td>0               </td> <td>0       </td> <td>0      </td> <td>0    </td> <td>0                                 </td> <td>0         </td> <td>11.1303</td> <td>0   </td> <td>0      </td> <td>0     </td> <td>7.28542       </td> <td>0            </td> <td>0      </td> <td>0       </td> <td>0       </td> <td>0                 </td> <td>0      </td> <td>0    </td> <td>0          </td> <td>0                </td> <td>0      </td> <td>4.65392</td> <td>0       </td> <td>0                                </td> <td>6.62175      </td> <td>0                             </td> <td>0   </td> <td>1.24392  </td> <td>12.6662</td> <td>0            </td> <td>0               </td> <td>0    </td> <td>0     </td> <td>0         </td> <td>0      </td> <td>7.75983</td> <td>0    </td> <td>14.7948</td> <td>0        </td> <td>0      </td> <td>0         </td> <td>0   </td> <td>0        </td> <td>10.7816 </td> <td>0     </td> <td>0            </td> <td>0     </td> <td>0    </td> <td>0                                </td> <td>0       </td> <td>0        </td> <td>9.50142</td> <td>1.55792 </td> <td>0    </td> <td>0        </td> <td>0   </td> <td>0   </td> <td>9.35642</td> <td>9.209      </td> <td>0     </td> <td>12.5633</td> <td>0      </td> <td>0    </td> <td>10.7816</td> <td>0     </td> <td>0         </td> <td>0    </td> <td>0       </td> <td>0     </td> <td>0         </td> <td>0   </td> <td>5.12342</td> <td>0      </td> <td>0      </td> <td>0      </td> <td>0    </td> <td>4.32667      </td> <td>5.67717  </td> <td>8.82758   </td> <td>0    </td> <td>10.3217  </td> <td>0         </td> <td>0     </td> <td>0       </td> <td>0   </td> <td>18.5128</td> <td>0         </td> <td>0         </td> <td>0        </td> <td>0      </td> <td>0     </td> <td>8.88767</td> <td>8.81275</td> <td>0       </td> <td>10.1079   </td> <td>0         </td> <td>0      </td> <td>0         </td> <td>0      </td> <td>0    </td> <td>9.11183    </td> <td>0            </td> <td>0          </td> <td>0        </td> <td>0    </td> <td>0      </td> <td>0   </td> <td>0          </td> <td>0                       </td> <td>0.0841667 </td> <td>0   </td> <td>0       </td> <td>0    </td> <td>0        </td> <td>0            </td> <td>0     </td> <td>0               </td> <td>0       </td> <td>0   </td> <td>0          </td> <td>7.148  </td> <td>14.7879 </td> <td>0          </td> <td>0    </td> <td>0      </td> <td>8.66983</td> <td>0     </td> <td>0     </td> <td>0               </td> <td>0                    </td> <td>0          </td> <td>0           </td> <td>0                        </td> <td>0                               </td> <td>0    </td> <td>13.6092   </td> <td>0                    </td> <td>0           </td> <td>0      </td> <td>9.86275</td> <td>0         </td> <td>0           </td> <td>0        </td> <td>0           </td> <td>7.26917 </td> <td>9.40675 </td> <td>0              </td> <td>0      </td> <td>0           </td> <td>0            </td> <td>0                                        </td> <td>0          </td> <td>13.6551</td> <td>0        </td> <td>0    </td> <td>0       </td> <td>0                     </td> <td>0        </td> <td>2.27433</td> <td>6.7115     </td> <td>0    </td> <td>0     </td> <td>0         </td> <td>0       </td> <td>0       </td> <td>0          </td> <td>0   </td> <td>0    </td> <td>0                  </td> <td>20.0383</td> <td>0     </td> <td>0           </td> <td>0                       </td> <td>0     </td> <td>7.63525</td> <td>0                   </td> <td>8.33883       </td> <td>8.47867                </td> <td>0            </td> <td>0      </td> <td>0         </td> <td>0        </td> <td>0      </td> <td>0             </td> <td>0             </td> <td>0    </td> <td>0     </td> <td>0       </td> <td>5.11808</td>\n",
       "        </tr>\n",
       "        <tr>\n",
       "            <td>1755</td> <td>0          </td> <td>12.3226</td> <td>0      </td> <td>0             </td> <td>10.8067</td> <td>0     </td> <td>0       </td> <td>0                  </td> <td>0        </td> <td>0      </td> <td>0    </td> <td>0   </td> <td>0        </td> <td>5.67192</td> <td>0         </td> <td>0      </td> <td>0      </td> <td>0           </td> <td>0         </td> <td>0       </td> <td>5.58017</td> <td>8.88558</td> <td>0     </td> <td>0    </td> <td>0     </td> <td>0      </td> <td>0                                </td> <td>10.0379               </td> <td>0       </td> <td>0     </td> <td>0                     </td> <td>10.2442 </td> <td>0           </td> <td>0    </td> <td>0      </td> <td>0       </td> <td>0       </td> <td>0     </td> <td>0         </td> <td>0             </td> <td>0                       </td> <td>0   </td> <td>0    </td> <td>0    </td> <td>0               </td> <td>0       </td> <td>0      </td> <td>0    </td> <td>0                                 </td> <td>0         </td> <td>10.9145</td> <td>0   </td> <td>0      </td> <td>0     </td> <td>7.06283       </td> <td>0            </td> <td>0      </td> <td>0       </td> <td>0       </td> <td>0                 </td> <td>0      </td> <td>0    </td> <td>0          </td> <td>0                </td> <td>0      </td> <td>4.55375</td> <td>0       </td> <td>0                                </td> <td>6.26767      </td> <td>0                             </td> <td>0   </td> <td>1.03325  </td> <td>12.3435</td> <td>0            </td> <td>0               </td> <td>0    </td> <td>0     </td> <td>0         </td> <td>0      </td> <td>7.52   </td> <td>0    </td> <td>14.5553</td> <td>0        </td> <td>0      </td> <td>0         </td> <td>0   </td> <td>0        </td> <td>10.4727 </td> <td>0     </td> <td>0            </td> <td>0     </td> <td>0    </td> <td>0                                </td> <td>0       </td> <td>0        </td> <td>9.299  </td> <td>1.20225 </td> <td>0    </td> <td>0        </td> <td>0   </td> <td>0   </td> <td>9.04967</td> <td>8.92458    </td> <td>0     </td> <td>12.3298</td> <td>0      </td> <td>0    </td> <td>10.4727</td> <td>0     </td> <td>0         </td> <td>0    </td> <td>0       </td> <td>0     </td> <td>0         </td> <td>0   </td> <td>5.00367</td> <td>0      </td> <td>0      </td> <td>0      </td> <td>0    </td> <td>4.05333      </td> <td>5.54075  </td> <td>8.54558   </td> <td>0    </td> <td>10.0994  </td> <td>0         </td> <td>0     </td> <td>0       </td> <td>0   </td> <td>18.2548</td> <td>0         </td> <td>0         </td> <td>0        </td> <td>0      </td> <td>0     </td> <td>8.71358</td> <td>8.5545 </td> <td>0       </td> <td>9.89008   </td> <td>0         </td> <td>0      </td> <td>0         </td> <td>0      </td> <td>0    </td> <td>8.92475    </td> <td>0            </td> <td>0          </td> <td>0        </td> <td>0    </td> <td>0      </td> <td>0   </td> <td>0          </td> <td>0                       </td> <td>-0.271917 </td> <td>0   </td> <td>0       </td> <td>0    </td> <td>0        </td> <td>0            </td> <td>0     </td> <td>0               </td> <td>0       </td> <td>0   </td> <td>0          </td> <td>6.96633</td> <td>14.4789 </td> <td>0          </td> <td>0    </td> <td>0      </td> <td>8.47808</td> <td>0     </td> <td>0     </td> <td>0               </td> <td>0                    </td> <td>0          </td> <td>0           </td> <td>0                        </td> <td>0                               </td> <td>0    </td> <td>13.392    </td> <td>0                    </td> <td>0           </td> <td>0      </td> <td>9.65225</td> <td>0         </td> <td>0           </td> <td>0        </td> <td>0           </td> <td>7.07242 </td> <td>9.1855  </td> <td>0              </td> <td>0      </td> <td>0           </td> <td>0            </td> <td>0                                        </td> <td>0          </td> <td>13.3447</td> <td>0        </td> <td>0    </td> <td>0       </td> <td>0                     </td> <td>0        </td> <td>1.9205 </td> <td>6.3995     </td> <td>0    </td> <td>0     </td> <td>0         </td> <td>0       </td> <td>0       </td> <td>0          </td> <td>0   </td> <td>0    </td> <td>0                  </td> <td>19.7646</td> <td>0     </td> <td>0           </td> <td>0                       </td> <td>0     </td> <td>7.47825</td> <td>0                   </td> <td>8.05483       </td> <td>8.19658                </td> <td>0            </td> <td>0      </td> <td>0         </td> <td>0        </td> <td>0      </td> <td>0             </td> <td>0             </td> <td>0    </td> <td>0     </td> <td>0       </td> <td>4.73283</td>\n",
       "        </tr>\n",
       "        <tr>\n",
       "            <td>1756</td> <td>0          </td> <td>13.0259</td> <td>0      </td> <td>0             </td> <td>11.0978</td> <td>0     </td> <td>0       </td> <td>0                  </td> <td>0        </td> <td>0      </td> <td>0    </td> <td>0   </td> <td>0        </td> <td>6.46358</td> <td>0         </td> <td>0      </td> <td>0      </td> <td>0           </td> <td>0         </td> <td>0       </td> <td>6.29742</td> <td>9.398  </td> <td>0     </td> <td>0    </td> <td>0     </td> <td>0      </td> <td>0                                </td> <td>10.77                 </td> <td>0       </td> <td>0     </td> <td>0                     </td> <td>11.0122 </td> <td>0           </td> <td>0    </td> <td>0      </td> <td>0       </td> <td>0       </td> <td>0     </td> <td>0         </td> <td>0             </td> <td>0                       </td> <td>0   </td> <td>0    </td> <td>0    </td> <td>0               </td> <td>0       </td> <td>0      </td> <td>0    </td> <td>0                                 </td> <td>0         </td> <td>11.6509</td> <td>0   </td> <td>0      </td> <td>0     </td> <td>8.07967       </td> <td>0            </td> <td>0      </td> <td>0       </td> <td>0       </td> <td>0                 </td> <td>0      </td> <td>0    </td> <td>0          </td> <td>0                </td> <td>0      </td> <td>5.03808</td> <td>0       </td> <td>0                                </td> <td>6.77783      </td> <td>0                             </td> <td>0   </td> <td>1.42458  </td> <td>12.711 </td> <td>0            </td> <td>0               </td> <td>0    </td> <td>0     </td> <td>0         </td> <td>0      </td> <td>8.40875</td> <td>0    </td> <td>15.2567</td> <td>0        </td> <td>0      </td> <td>0         </td> <td>0   </td> <td>0        </td> <td>10.8317 </td> <td>0     </td> <td>0            </td> <td>0     </td> <td>0    </td> <td>0                                </td> <td>0       </td> <td>0        </td> <td>10.1645</td> <td>1.73833 </td> <td>0    </td> <td>0        </td> <td>0   </td> <td>0   </td> <td>9.50142</td> <td>9.39425    </td> <td>0     </td> <td>12.8488</td> <td>0      </td> <td>0    </td> <td>10.8317</td> <td>0     </td> <td>0         </td> <td>0    </td> <td>0       </td> <td>0     </td> <td>0         </td> <td>0   </td> <td>5.59683</td> <td>0      </td> <td>0      </td> <td>0      </td> <td>0    </td> <td>4.63825      </td> <td>6.26308  </td> <td>9.05292   </td> <td>0    </td> <td>10.8294  </td> <td>0         </td> <td>0     </td> <td>0       </td> <td>0   </td> <td>18.7946</td> <td>0         </td> <td>0         </td> <td>0        </td> <td>0      </td> <td>0     </td> <td>9.51142</td> <td>8.863  </td> <td>0       </td> <td>10.6161   </td> <td>0         </td> <td>0      </td> <td>0         </td> <td>0      </td> <td>0    </td> <td>9.56867    </td> <td>0            </td> <td>0          </td> <td>0        </td> <td>0    </td> <td>0      </td> <td>0   </td> <td>0          </td> <td>0                       </td> <td>0.19475   </td> <td>0   </td> <td>0       </td> <td>0    </td> <td>0        </td> <td>0            </td> <td>0     </td> <td>0               </td> <td>0       </td> <td>0   </td> <td>0          </td> <td>7.97642</td> <td>14.8343 </td> <td>0          </td> <td>0    </td> <td>0      </td> <td>9.29583</td> <td>0     </td> <td>0     </td> <td>0               </td> <td>0                    </td> <td>0          </td> <td>0           </td> <td>0                        </td> <td>0                               </td> <td>0    </td> <td>13.9949   </td> <td>0                    </td> <td>0           </td> <td>0      </td> <td>10.4285</td> <td>0         </td> <td>0           </td> <td>0        </td> <td>0           </td> <td>8.01267 </td> <td>9.90658 </td> <td>0              </td> <td>0      </td> <td>0           </td> <td>0            </td> <td>0                                        </td> <td>0          </td> <td>13.6757</td> <td>0        </td> <td>0    </td> <td>0       </td> <td>0                     </td> <td>0        </td> <td>2.393  </td> <td>6.78933    </td> <td>0    </td> <td>0     </td> <td>0         </td> <td>0       </td> <td>0       </td> <td>0          </td> <td>0   </td> <td>0    </td> <td>0                  </td> <td>20.2291</td> <td>0     </td> <td>0           </td> <td>0                       </td> <td>0     </td> <td>8.2355 </td> <td>0                   </td> <td>8.53608       </td> <td>8.66958                </td> <td>0            </td> <td>0      </td> <td>0         </td> <td>0        </td> <td>0      </td> <td>0             </td> <td>0             </td> <td>0    </td> <td>0     </td> <td>0       </td> <td>5.1605 </td>\n",
       "        </tr>\n",
       "        <tr>\n",
       "            <td>1757</td> <td>0          </td> <td>12.7303</td> <td>0      </td> <td>0             </td> <td>10.8682</td> <td>0     </td> <td>0       </td> <td>0                  </td> <td>0        </td> <td>0      </td> <td>0    </td> <td>0   </td> <td>0        </td> <td>6.09717</td> <td>0         </td> <td>0      </td> <td>0      </td> <td>0           </td> <td>0         </td> <td>0       </td> <td>6.30167</td> <td>9.22142</td> <td>0     </td> <td>0    </td> <td>0     </td> <td>0      </td> <td>0                                </td> <td>10.4391               </td> <td>0       </td> <td>0     </td> <td>0                     </td> <td>10.7598 </td> <td>0           </td> <td>0    </td> <td>0      </td> <td>0       </td> <td>0       </td> <td>0     </td> <td>0         </td> <td>0             </td> <td>0                       </td> <td>0   </td> <td>0    </td> <td>0    </td> <td>0               </td> <td>0       </td> <td>0      </td> <td>0    </td> <td>0                                 </td> <td>0         </td> <td>11.3068</td> <td>0   </td> <td>0      </td> <td>0     </td> <td>7.69675       </td> <td>0            </td> <td>0      </td> <td>0       </td> <td>0       </td> <td>0                 </td> <td>0      </td> <td>0    </td> <td>0          </td> <td>0                </td> <td>0      </td> <td>5.27133</td> <td>0       </td> <td>0                                </td> <td>6.86583      </td> <td>0                             </td> <td>0   </td> <td>1.70183  </td> <td>12.5216</td> <td>0            </td> <td>0               </td> <td>0    </td> <td>0     </td> <td>0         </td> <td>0      </td> <td>8.10858</td> <td>0    </td> <td>14.9987</td> <td>0        </td> <td>0      </td> <td>0         </td> <td>0   </td> <td>0        </td> <td>10.7017 </td> <td>0     </td> <td>0            </td> <td>0     </td> <td>0    </td> <td>0                                </td> <td>0       </td> <td>0        </td> <td>9.84108</td> <td>1.77383 </td> <td>0    </td> <td>0        </td> <td>0   </td> <td>0   </td> <td>9.46283</td> <td>9.36492    </td> <td>0     </td> <td>12.5326</td> <td>0      </td> <td>0    </td> <td>10.7017</td> <td>0     </td> <td>0         </td> <td>0    </td> <td>0       </td> <td>0     </td> <td>0         </td> <td>0   </td> <td>5.74133</td> <td>0      </td> <td>0      </td> <td>0      </td> <td>0    </td> <td>4.29592      </td> <td>6.30183  </td> <td>8.84275   </td> <td>0    </td> <td>10.5432  </td> <td>0         </td> <td>0     </td> <td>0       </td> <td>0   </td> <td>18.5369</td> <td>0         </td> <td>0         </td> <td>0        </td> <td>0      </td> <td>0     </td> <td>9.33492</td> <td>8.57608</td> <td>0       </td> <td>10.3067   </td> <td>0         </td> <td>0      </td> <td>0         </td> <td>0      </td> <td>0    </td> <td>9.43625    </td> <td>0            </td> <td>0          </td> <td>0        </td> <td>0    </td> <td>0      </td> <td>0   </td> <td>0          </td> <td>0                       </td> <td>0.38025   </td> <td>0   </td> <td>0       </td> <td>0    </td> <td>0        </td> <td>0            </td> <td>0     </td> <td>0               </td> <td>0       </td> <td>0   </td> <td>0          </td> <td>7.746  </td> <td>14.7103 </td> <td>0          </td> <td>0    </td> <td>0      </td> <td>9.05058</td> <td>0     </td> <td>0     </td> <td>0               </td> <td>0                    </td> <td>0          </td> <td>0           </td> <td>0                        </td> <td>0                               </td> <td>0    </td> <td>13.6488   </td> <td>0                    </td> <td>0           </td> <td>0      </td> <td>10.1244</td> <td>0         </td> <td>0           </td> <td>0        </td> <td>0           </td> <td>7.69475 </td> <td>9.54933 </td> <td>0              </td> <td>0      </td> <td>0           </td> <td>0            </td> <td>0                                        </td> <td>0          </td> <td>13.5117</td> <td>0        </td> <td>0    </td> <td>0       </td> <td>0                     </td> <td>0        </td> <td>2.62817</td> <td>6.48158    </td> <td>0    </td> <td>0     </td> <td>0         </td> <td>0       </td> <td>0       </td> <td>0          </td> <td>0   </td> <td>0    </td> <td>0                  </td> <td>20.0174</td> <td>0     </td> <td>0           </td> <td>0                       </td> <td>0     </td> <td>8.129  </td> <td>0                   </td> <td>8.50158       </td> <td>8.63833                </td> <td>0            </td> <td>0      </td> <td>0         </td> <td>0        </td> <td>0      </td> <td>0             </td> <td>0             </td> <td>0    </td> <td>0     </td> <td>0       </td> <td>5.41383</td>\n",
       "        </tr>\n",
       "        <tr>\n",
       "            <td>1758</td> <td>0          </td> <td>11.4443</td> <td>0      </td> <td>0             </td> <td>10.1447</td> <td>0     </td> <td>0       </td> <td>0                  </td> <td>0        </td> <td>0      </td> <td>0    </td> <td>0   </td> <td>0        </td> <td>5.36342</td> <td>0         </td> <td>0      </td> <td>0      </td> <td>0           </td> <td>0         </td> <td>0       </td> <td>4.34367</td> <td>8.91433</td> <td>0     </td> <td>0    </td> <td>0     </td> <td>0      </td> <td>0                                </td> <td>9.39533               </td> <td>0       </td> <td>0     </td> <td>0                     </td> <td>9.19908 </td> <td>0           </td> <td>0    </td> <td>0      </td> <td>0       </td> <td>0       </td> <td>0     </td> <td>0         </td> <td>0             </td> <td>0                       </td> <td>0   </td> <td>0    </td> <td>0    </td> <td>0               </td> <td>0       </td> <td>0      </td> <td>0    </td> <td>0                                 </td> <td>0         </td> <td>10.3803</td> <td>0   </td> <td>0      </td> <td>0     </td> <td>6.79842       </td> <td>0            </td> <td>0      </td> <td>0       </td> <td>0       </td> <td>0                 </td> <td>0      </td> <td>0    </td> <td>0          </td> <td>0                </td> <td>0      </td> <td>3.23958</td> <td>0       </td> <td>0                                </td> <td>5.58392      </td> <td>0                             </td> <td>0   </td> <td>-0.338083</td> <td>11.7373</td> <td>0            </td> <td>0               </td> <td>0    </td> <td>0     </td> <td>0         </td> <td>0      </td> <td>7.49608</td> <td>0    </td> <td>13.4913</td> <td>0        </td> <td>0      </td> <td>0         </td> <td>0   </td> <td>0        </td> <td>10.0683 </td> <td>0     </td> <td>0            </td> <td>0     </td> <td>0    </td> <td>0                                </td> <td>0       </td> <td>0        </td> <td>8.68817</td> <td>0.150667</td> <td>0    </td> <td>0        </td> <td>0   </td> <td>0   </td> <td>8.50692</td> <td>8.60758    </td> <td>0     </td> <td>11.7922</td> <td>0      </td> <td>0    </td> <td>10.0683</td> <td>0     </td> <td>0         </td> <td>0    </td> <td>0       </td> <td>0     </td> <td>0         </td> <td>0   </td> <td>3.84408</td> <td>0      </td> <td>0      </td> <td>0      </td> <td>0    </td> <td>3.82775      </td> <td>4.55067  </td> <td>8.512     </td> <td>0    </td> <td>9.176    </td> <td>0         </td> <td>0     </td> <td>0       </td> <td>0   </td> <td>17.2762</td> <td>0         </td> <td>0         </td> <td>0        </td> <td>0      </td> <td>0     </td> <td>7.55133</td> <td>8.151  </td> <td>0       </td> <td>9.09675   </td> <td>0         </td> <td>0      </td> <td>0         </td> <td>0      </td> <td>0    </td> <td>9.08392    </td> <td>0            </td> <td>0          </td> <td>0        </td> <td>0    </td> <td>0      </td> <td>0   </td> <td>0          </td> <td>0                       </td> <td>-1.1045   </td> <td>0   </td> <td>0       </td> <td>0    </td> <td>0        </td> <td>0            </td> <td>0     </td> <td>0               </td> <td>0       </td> <td>0   </td> <td>0          </td> <td>6.42908</td> <td>13.3563 </td> <td>0          </td> <td>0    </td> <td>0      </td> <td>7.50683</td> <td>0     </td> <td>0     </td> <td>0               </td> <td>0                    </td> <td>0          </td> <td>0           </td> <td>2.85958                  </td> <td>0                               </td> <td>0    </td> <td>12.9401   </td> <td>0                    </td> <td>0           </td> <td>0      </td> <td>8.85742</td> <td>0         </td> <td>0           </td> <td>0        </td> <td>0           </td> <td>6.5085  </td> <td>8.76642 </td> <td>0              </td> <td>0      </td> <td>0           </td> <td>0            </td> <td>0                                        </td> <td>0          </td> <td>12.3889</td> <td>0        </td> <td>0    </td> <td>0       </td> <td>0                     </td> <td>0        </td> <td>1.20475</td> <td>6.09708    </td> <td>0    </td> <td>0     </td> <td>0         </td> <td>0       </td> <td>0       </td> <td>0          </td> <td>0   </td> <td>0    </td> <td>0                  </td> <td>18.6853</td> <td>0     </td> <td>0           </td> <td>0                       </td> <td>0     </td> <td>6.181  </td> <td>0                   </td> <td>7.69817       </td> <td>7.915                  </td> <td>0            </td> <td>0      </td> <td>0         </td> <td>0        </td> <td>0      </td> <td>0             </td> <td>0             </td> <td>0    </td> <td>0     </td> <td>0       </td> <td>4.07483</td>\n",
       "        </tr>\n",
       "        <tr>\n",
       "            <td>1759</td> <td>0          </td> <td>12.4929</td> <td>0      </td> <td>0             </td> <td>11.2997</td> <td>0     </td> <td>0       </td> <td>0                  </td> <td>0        </td> <td>0      </td> <td>0    </td> <td>0   </td> <td>0        </td> <td>6.36383</td> <td>0         </td> <td>24.5444</td> <td>0      </td> <td>0           </td> <td>0         </td> <td>0       </td> <td>5.53625</td> <td>9.86375</td> <td>0     </td> <td>0    </td> <td>0     </td> <td>0      </td> <td>0                                </td> <td>10.438                </td> <td>0       </td> <td>0     </td> <td>0                     </td> <td>10.2404 </td> <td>0           </td> <td>0    </td> <td>0      </td> <td>0       </td> <td>0       </td> <td>0     </td> <td>0         </td> <td>0             </td> <td>0                       </td> <td>0   </td> <td>0    </td> <td>0    </td> <td>0               </td> <td>0       </td> <td>0      </td> <td>0    </td> <td>0                                 </td> <td>0         </td> <td>11.4184</td> <td>0   </td> <td>0      </td> <td>0     </td> <td>7.721         </td> <td>0            </td> <td>0      </td> <td>0       </td> <td>0       </td> <td>0                 </td> <td>0      </td> <td>0    </td> <td>0          </td> <td>0                </td> <td>0      </td> <td>4.6355 </td> <td>0       </td> <td>0                                </td> <td>6.6355       </td> <td>0                             </td> <td>0   </td> <td>1.0075   </td> <td>12.8395</td> <td>0            </td> <td>0               </td> <td>0    </td> <td>0     </td> <td>0         </td> <td>0      </td> <td>8.41275</td> <td>0    </td> <td>14.5348</td> <td>0        </td> <td>0      </td> <td>0         </td> <td>0   </td> <td>0        </td> <td>11.1004 </td> <td>0     </td> <td>0            </td> <td>0     </td> <td>0    </td> <td>0                                </td> <td>0       </td> <td>0        </td> <td>9.70275</td> <td>1.19025 </td> <td>0    </td> <td>0        </td> <td>0   </td> <td>0   </td> <td>9.49833</td> <td>9.58308    </td> <td>0     </td> <td>12.8982</td> <td>0      </td> <td>0    </td> <td>11.1004</td> <td>0     </td> <td>0         </td> <td>0    </td> <td>0       </td> <td>0     </td> <td>0         </td> <td>0   </td> <td>5.17183</td> <td>0      </td> <td>0      </td> <td>0      </td> <td>0    </td> <td>4.88883      </td> <td>5.80017  </td> <td>9.49992   </td> <td>0    </td> <td>10.2196  </td> <td>0         </td> <td>0     </td> <td>0       </td> <td>0   </td> <td>18.3628</td> <td>0         </td> <td>0         </td> <td>0        </td> <td>0      </td> <td>0     </td> <td>8.62158</td> <td>9.33225</td> <td>0       </td> <td>10.1411   </td> <td>0         </td> <td>0      </td> <td>0         </td> <td>0      </td> <td>0    </td> <td>9.95958    </td> <td>0            </td> <td>0          </td> <td>0        </td> <td>0    </td> <td>0      </td> <td>0   </td> <td>0          </td> <td>0                       </td> <td>0.0870833 </td> <td>0   </td> <td>0       </td> <td>0    </td> <td>0        </td> <td>0            </td> <td>0     </td> <td>0               </td> <td>0       </td> <td>0   </td> <td>0          </td> <td>7.46658</td> <td>14.4526 </td> <td>0          </td> <td>0    </td> <td>0      </td> <td>8.55258</td> <td>0     </td> <td>0     </td> <td>0               </td> <td>0                    </td> <td>0          </td> <td>0           </td> <td>3.74417                  </td> <td>0                               </td> <td>0    </td> <td>14.0188   </td> <td>0                    </td> <td>0           </td> <td>0      </td> <td>9.89367</td> <td>0         </td> <td>0           </td> <td>0        </td> <td>0           </td> <td>7.509   </td> <td>9.80275 </td> <td>0              </td> <td>0      </td> <td>0           </td> <td>0            </td> <td>0                                        </td> <td>0          </td> <td>13.504 </td> <td>0        </td> <td>0    </td> <td>0       </td> <td>0                     </td> <td>0        </td> <td>2.47167</td> <td>7.24742    </td> <td>0    </td> <td>0     </td> <td>0         </td> <td>0       </td> <td>0       </td> <td>0          </td> <td>0   </td> <td>0    </td> <td>0                  </td> <td>19.7935</td> <td>0     </td> <td>0           </td> <td>0                       </td> <td>0     </td> <td>7.28083</td> <td>0                   </td> <td>8.68208       </td> <td>8.89517                </td> <td>0            </td> <td>0      </td> <td>0         </td> <td>0        </td> <td>0      </td> <td>0             </td> <td>0             </td> <td>0    </td> <td>0     </td> <td>0       </td> <td>5.45208</td>\n",
       "        </tr>\n",
       "        <tr>\n",
       "            <td>1760</td> <td>0          </td> <td>12.155 </td> <td>0      </td> <td>0             </td> <td>11.0824</td> <td>0     </td> <td>0       </td> <td>0                  </td> <td>0        </td> <td>0      </td> <td>0    </td> <td>0   </td> <td>0        </td> <td>6.3795 </td> <td>0         </td> <td>0      </td> <td>0      </td> <td>0           </td> <td>0         </td> <td>0       </td> <td>4.7515 </td> <td>9.65242</td> <td>0     </td> <td>0    </td> <td>0     </td> <td>0      </td> <td>0                                </td> <td>10.2336               </td> <td>0       </td> <td>0     </td> <td>0                     </td> <td>9.8045  </td> <td>0           </td> <td>0    </td> <td>0      </td> <td>0       </td> <td>0       </td> <td>0     </td> <td>0         </td> <td>0             </td> <td>0                       </td> <td>0   </td> <td>0    </td> <td>0    </td> <td>0               </td> <td>0       </td> <td>0      </td> <td>0    </td> <td>0                                 </td> <td>0         </td> <td>11.2765</td> <td>0   </td> <td>0      </td> <td>0     </td> <td>7.6905        </td> <td>0            </td> <td>0      </td> <td>0       </td> <td>0       </td> <td>0                 </td> <td>0      </td> <td>0    </td> <td>0          </td> <td>0                </td> <td>0      </td> <td>3.45058</td> <td>0       </td> <td>0                                </td> <td>5.72208      </td> <td>0                             </td> <td>0   </td> <td>-0.2865  </td> <td>12.5932</td> <td>0            </td> <td>0               </td> <td>0    </td> <td>0     </td> <td>0         </td> <td>0      </td> <td>8.38017</td> <td>0    </td> <td>14.0864</td> <td>0        </td> <td>0      </td> <td>0         </td> <td>0   </td> <td>0        </td> <td>10.7183 </td> <td>0     </td> <td>0            </td> <td>0     </td> <td>0    </td> <td>0                                </td> <td>0       </td> <td>0        </td> <td>9.49708</td> <td>0.26025 </td> <td>0    </td> <td>0        </td> <td>0   </td> <td>0   </td> <td>8.82892</td> <td>8.92567    </td> <td>0     </td> <td>12.7324</td> <td>0      </td> <td>0    </td> <td>10.7183</td> <td>0     </td> <td>0         </td> <td>0    </td> <td>0       </td> <td>0     </td> <td>0         </td> <td>0   </td> <td>4.17367</td> <td>0      </td> <td>0      </td> <td>0      </td> <td>0    </td> <td>5.0215       </td> <td>4.9965   </td> <td>9.43883   </td> <td>0    </td> <td>9.86008  </td> <td>0         </td> <td>0     </td> <td>0       </td> <td>0   </td> <td>17.9443</td> <td>0         </td> <td>0         </td> <td>0        </td> <td>0      </td> <td>0     </td> <td>8.07333</td> <td>9.22408</td> <td>0       </td> <td>9.85308   </td> <td>0         </td> <td>0      </td> <td>0         </td> <td>0      </td> <td>0    </td> <td>9.514      </td> <td>0            </td> <td>0          </td> <td>0        </td> <td>0    </td> <td>0      </td> <td>0   </td> <td>0          </td> <td>0                       </td> <td>-0.92975  </td> <td>0   </td> <td>0       </td> <td>0    </td> <td>0        </td> <td>0            </td> <td>0     </td> <td>0               </td> <td>0       </td> <td>0   </td> <td>0          </td> <td>7.11367</td> <td>13.899  </td> <td>0          </td> <td>0    </td> <td>0      </td> <td>8.13692</td> <td>0     </td> <td>0     </td> <td>0               </td> <td>0                    </td> <td>0          </td> <td>0           </td> <td>0                        </td> <td>0                               </td> <td>0    </td> <td>13.9027   </td> <td>0                    </td> <td>0           </td> <td>0      </td> <td>9.60242</td> <td>0         </td> <td>0           </td> <td>0        </td> <td>0           </td> <td>7.29767 </td> <td>9.73508 </td> <td>0              </td> <td>0      </td> <td>0           </td> <td>0            </td> <td>0                                        </td> <td>0          </td> <td>13.0712</td> <td>0        </td> <td>0    </td> <td>0       </td> <td>0                     </td> <td>0        </td> <td>1.43642</td> <td>7.37467    </td> <td>0    </td> <td>0     </td> <td>0         </td> <td>0       </td> <td>0       </td> <td>0          </td> <td>0   </td> <td>0    </td> <td>0                  </td> <td>19.3044</td> <td>0     </td> <td>0           </td> <td>0                       </td> <td>0     </td> <td>6.61817</td> <td>0                   </td> <td>8.03317       </td> <td>8.25558                </td> <td>0            </td> <td>0      </td> <td>0         </td> <td>0        </td> <td>0      </td> <td>0             </td> <td>0             </td> <td>0    </td> <td>0     </td> <td>0       </td> <td>4.322  </td>\n",
       "        </tr>\n",
       "        <tr>\n",
       "            <td>1761</td> <td>0          </td> <td>12.8763</td> <td>0      </td> <td>0             </td> <td>11.3019</td> <td>0     </td> <td>0       </td> <td>0                  </td> <td>0        </td> <td>0      </td> <td>0    </td> <td>0   </td> <td>0        </td> <td>6.57258</td> <td>0         </td> <td>0      </td> <td>0      </td> <td>0           </td> <td>0         </td> <td>0       </td> <td>6.10167</td> <td>9.72242</td> <td>0     </td> <td>0    </td> <td>0     </td> <td>0      </td> <td>0                                </td> <td>10.7214               </td> <td>0       </td> <td>0     </td> <td>0                     </td> <td>10.7556 </td> <td>0           </td> <td>0    </td> <td>0      </td> <td>0       </td> <td>0       </td> <td>0     </td> <td>0         </td> <td>0             </td> <td>0                       </td> <td>0   </td> <td>0    </td> <td>0    </td> <td>0               </td> <td>0       </td> <td>0      </td> <td>0    </td> <td>0                                 </td> <td>0         </td> <td>11.6573</td> <td>0   </td> <td>0      </td> <td>0     </td> <td>8.07392       </td> <td>0            </td> <td>0      </td> <td>0       </td> <td>0       </td> <td>0                 </td> <td>0      </td> <td>0    </td> <td>0          </td> <td>0                </td> <td>0      </td> <td>5.096  </td> <td>0       </td> <td>0                                </td> <td>7.05567      </td> <td>0                             </td> <td>0   </td> <td>1.57208  </td> <td>12.9132</td> <td>0            </td> <td>0               </td> <td>0    </td> <td>0     </td> <td>0         </td> <td>0      </td> <td>8.59617</td> <td>0    </td> <td>15.0247</td> <td>0        </td> <td>0      </td> <td>0         </td> <td>0   </td> <td>0        </td> <td>11.0681 </td> <td>0     </td> <td>0            </td> <td>0     </td> <td>0    </td> <td>0                                </td> <td>0       </td> <td>0        </td> <td>10.0753</td> <td>1.77792 </td> <td>0    </td> <td>0        </td> <td>0   </td> <td>0   </td> <td>9.65783</td> <td>9.636      </td> <td>0     </td> <td>12.9722</td> <td>0      </td> <td>0    </td> <td>11.0681</td> <td>0     </td> <td>0         </td> <td>0    </td> <td>0       </td> <td>0     </td> <td>0         </td> <td>0   </td> <td>5.6375 </td> <td>0      </td> <td>0      </td> <td>0      </td> <td>0    </td> <td>4.93542      </td> <td>6.27317  </td> <td>9.41433   </td> <td>0    </td> <td>10.6452  </td> <td>0         </td> <td>0     </td> <td>0       </td> <td>0   </td> <td>18.6926</td> <td>0         </td> <td>0         </td> <td>0        </td> <td>0      </td> <td>0     </td> <td>9.20792</td> <td>9.18108</td> <td>0       </td> <td>10.4947   </td> <td>0         </td> <td>0      </td> <td>0         </td> <td>0      </td> <td>0    </td> <td>9.81458    </td> <td>0            </td> <td>0          </td> <td>0        </td> <td>0    </td> <td>0      </td> <td>0   </td> <td>0          </td> <td>0                       </td> <td>0.59025   </td> <td>0   </td> <td>0       </td> <td>0    </td> <td>0        </td> <td>0            </td> <td>0     </td> <td>0               </td> <td>0       </td> <td>0   </td> <td>0          </td> <td>7.91933</td> <td>14.7587 </td> <td>0          </td> <td>0    </td> <td>0      </td> <td>9.06067</td> <td>0     </td> <td>0     </td> <td>0               </td> <td>0                    </td> <td>0          </td> <td>0           </td> <td>0                        </td> <td>0                               </td> <td>0    </td> <td>14.1082   </td> <td>0                    </td> <td>0           </td> <td>0      </td> <td>10.2856</td> <td>0         </td> <td>0           </td> <td>0        </td> <td>0           </td> <td>7.91633 </td> <td>9.98308 </td> <td>0              </td> <td>0      </td> <td>0           </td> <td>0            </td> <td>0                                        </td> <td>0          </td> <td>13.6989</td> <td>0        </td> <td>0    </td> <td>0       </td> <td>-7.16825              </td> <td>0        </td> <td>2.915  </td> <td>7.18292    </td> <td>0    </td> <td>0     </td> <td>0         </td> <td>0       </td> <td>0       </td> <td>0          </td> <td>0   </td> <td>0    </td> <td>0                  </td> <td>20.1348</td> <td>0     </td> <td>0           </td> <td>0                       </td> <td>0     </td> <td>7.90708</td> <td>0                   </td> <td>8.76383       </td> <td>8.934                  </td> <td>0            </td> <td>0      </td> <td>0         </td> <td>0        </td> <td>0      </td> <td>0             </td> <td>0             </td> <td>0    </td> <td>0     </td> <td>0       </td> <td>5.77158</td>\n",
       "        </tr>\n",
       "        <tr>\n",
       "            <td>1762</td> <td>0          </td> <td>12.7003</td> <td>0      </td> <td>0             </td> <td>11.1437</td> <td>0     </td> <td>0       </td> <td>0                  </td> <td>0        </td> <td>0      </td> <td>0    </td> <td>0   </td> <td>0        </td> <td>6.08058</td> <td>0         </td> <td>0      </td> <td>0      </td> <td>0           </td> <td>0         </td> <td>0       </td> <td>5.80308</td> <td>9.06533</td> <td>0     </td> <td>0    </td> <td>0     </td> <td>0      </td> <td>0                                </td> <td>10.4418               </td> <td>0       </td> <td>0     </td> <td>0                     </td> <td>10.5868 </td> <td>0           </td> <td>0    </td> <td>0      </td> <td>0       </td> <td>0       </td> <td>0     </td> <td>0         </td> <td>0             </td> <td>0                       </td> <td>0   </td> <td>0    </td> <td>0    </td> <td>0               </td> <td>0       </td> <td>0      </td> <td>0    </td> <td>0                                 </td> <td>0         </td> <td>11.3248</td> <td>0   </td> <td>0      </td> <td>0     </td> <td>7.42525       </td> <td>0            </td> <td>0      </td> <td>0       </td> <td>0       </td> <td>0                 </td> <td>0      </td> <td>0    </td> <td>0          </td> <td>0                </td> <td>0      </td> <td>4.75467</td> <td>0       </td> <td>0                                </td> <td>6.23017      </td> <td>0                             </td> <td>0   </td> <td>1.13483  </td> <td>12.623 </td> <td>0            </td> <td>0               </td> <td>0    </td> <td>0     </td> <td>0         </td> <td>0      </td> <td>7.80592</td> <td>0    </td> <td>14.8985</td> <td>0        </td> <td>0      </td> <td>0         </td> <td>0   </td> <td>0        </td> <td>10.6265 </td> <td>0     </td> <td>0            </td> <td>0     </td> <td>0    </td> <td>0                                </td> <td>0       </td> <td>0        </td> <td>9.67567</td> <td>1.21142 </td> <td>0    </td> <td>0        </td> <td>0   </td> <td>0   </td> <td>9.09283</td> <td>8.9445     </td> <td>0     </td> <td>12.7426</td> <td>0      </td> <td>0    </td> <td>10.6265</td> <td>0     </td> <td>0         </td> <td>0    </td> <td>0       </td> <td>0     </td> <td>0         </td> <td>0   </td> <td>5.23783</td> <td>0      </td> <td>0      </td> <td>0      </td> <td>0    </td> <td>4.48533      </td> <td>5.80017  </td> <td>8.80083   </td> <td>0    </td> <td>10.4685  </td> <td>0         </td> <td>0     </td> <td>0       </td> <td>0   </td> <td>18.6098</td> <td>0         </td> <td>0         </td> <td>0        </td> <td>0      </td> <td>0     </td> <td>9.011  </td> <td>8.95883</td> <td>0       </td> <td>10.2777   </td> <td>0         </td> <td>0      </td> <td>0         </td> <td>0      </td> <td>0    </td> <td>8.99083    </td> <td>0            </td> <td>0          </td> <td>0        </td> <td>0    </td> <td>0      </td> <td>0   </td> <td>0          </td> <td>0                       </td> <td>-0.234083 </td> <td>0   </td> <td>0       </td> <td>0    </td> <td>0        </td> <td>0            </td> <td>0     </td> <td>0               </td> <td>0       </td> <td>0   </td> <td>0          </td> <td>7.26325</td> <td>14.7021 </td> <td>0          </td> <td>0    </td> <td>0      </td> <td>8.81567</td> <td>0     </td> <td>0     </td> <td>0               </td> <td>0                    </td> <td>0          </td> <td>0           </td> <td>0                        </td> <td>0                               </td> <td>0    </td> <td>13.8185   </td> <td>0                    </td> <td>0           </td> <td>0      </td> <td>10.0309</td> <td>0         </td> <td>0           </td> <td>0        </td> <td>0           </td> <td>7.431   </td> <td>9.60558 </td> <td>0              </td> <td>0      </td> <td>0           </td> <td>0            </td> <td>0                                        </td> <td>0          </td> <td>13.6088</td> <td>0        </td> <td>0    </td> <td>0       </td> <td>-7.462                </td> <td>0        </td> <td>2.07817</td> <td>6.82408    </td> <td>0    </td> <td>0     </td> <td>0         </td> <td>0       </td> <td>0       </td> <td>0          </td> <td>0   </td> <td>0    </td> <td>0                  </td> <td>20.0852</td> <td>0     </td> <td>0           </td> <td>0                       </td> <td>0     </td> <td>7.73417</td> <td>0                   </td> <td>8.0915        </td> <td>8.22192                </td> <td>0            </td> <td>0      </td> <td>0         </td> <td>0        </td> <td>0      </td> <td>0             </td> <td>0             </td> <td>0    </td> <td>0     </td> <td>0       </td> <td>5.217  </td>\n",
       "        </tr>\n",
       "    </tbody>\n",
       "</table>\n",
       "<p>... (250 rows omitted)</p>"
      ],
      "text/plain": [
       "year | Afghanistan | Albania | Algeria | American Samoa | Andorra | Angola | Anguilla | Antigua And Barbuda | Argentina | Armenia | Aruba | Asia | Australia | Austria | Azerbaijan | Bahamas | Bahrain | Baker Island | Bangladesh | Barbados | Belarus | Belgium | Belize | Benin | Bhutan | Bolivia | Bonaire, Saint Eustatius And Saba | Bosnia And Herzegovina | Botswana | Brazil | British Virgin Islands | Bulgaria | Burkina Faso | Burma | Burundi | Cambodia | Cameroon | Canada | Cape Verde | Cayman Islands | Central African Republic | Chad | Chile | China | Christmas Island | Colombia | Comoros | Congo | Congo (Democratic Republic Of The) | Costa Rica | Croatia | Cuba | Curaçao | Cyprus | Czech Republic | Côte D'Ivoire | Denmark | Djibouti | Dominica | Dominican Republic | Ecuador | Egypt | El Salvador | Equatorial Guinea | Eritrea | Estonia | Ethiopia | Falkland Islands (Islas Malvinas) | Faroe Islands | Federated States Of Micronesia | Fiji | Finland   | France  | French Guiana | French Polynesia | Gabon | Gambia | Gaza Strip | Georgia | Germany | Ghana | Greece  | Greenland | Grenada | Guadeloupe | Guam | Guatemala | Guernsey | Guinea | Guinea Bissau | Guyana | Haiti | Heard Island And Mcdonald Islands | Honduras | Hong Kong | Hungary | Iceland  | India | Indonesia | Iran | Iraq | Ireland | Isle Of Man | Israel | Italy   | Jamaica | Japan | Jersey  | Jordan | Kazakhstan | Kenya | Kiribati | Kuwait | Kyrgyzstan | Laos | Latvia  | Lebanon | Lesotho | Liberia | Libya | Liechtenstein | Lithuania | Luxembourg | Macau | Macedonia | Madagascar | Malawi | Malaysia | Mali | Malta   | Martinique | Mauritania | Mauritius | Mayotte | Mexico | Moldova | Monaco  | Mongolia | Montenegro | Montserrat | Morocco | Mozambique | Namibia | Nepal | Netherlands | New Caledonia | New Zealand | Nicaragua | Niger | Nigeria | Niue | North Korea | Northern Mariana Islands | Norway     | Oman | Pakistan | Palau | Palestina | Palmyra Atoll | Panama | Papua New Guinea | Paraguay | Peru | Philippines | Poland  | Portugal | Puerto Rico | Qatar | Reunion | Romania | Russia | Rwanda | Saint Barthélemy | Saint Kitts And Nevis | Saint Lucia | Saint Martin | Saint Pierre And Miquelon | Saint Vincent And The Grenadines | Samoa | San Marino | Sao Tome And Principe | Saudi Arabia | Senegal | Serbia  | Seychelles | Sierra Leone | Singapore | Sint Maarten | Slovakia | Slovenia | Solomon Islands | Somalia | South Africa | South America | South Georgia And The South Sandwich Isla | South Korea | Spain   | Sri Lanka | Sudan | Suriname | Svalbard And Jan Mayen | Swaziland | Sweden  | Switzerland | Syria | Taiwan | Tajikistan | Tanzania | Thailand | Timor Leste | Togo | Tonga | Trinidad And Tobago | Tunisia | Turkey | Turkmenistan | Turks And Caicas Islands | Uganda | Ukraine | United Arab Emirates | United Kingdom | United Kingdom (Europe) | United States | Uruguay | Uzbekistan | Venezuela | Vietnam | Virgin Islands | Western Sahara | Yemen | Zambia | Zimbabwe | Åland\n",
       "1753 | 0           | 12.557  | 0       | 0              | 11.2345 | 0      | 0        | 0                   | 0         | 0       | 0     | 0    | 0         | 6.13892 | 0          | 0       | 0       | 0            | 0          | 0        | 5.65175 | 9.45708 | 0      | 0     | 0      | 0       | 0                                 | 10.3656                | 0        | 0      | 0                      | 10.3995  | 0            | 0     | 0       | 0        | 0        | 0      | 0          | 0              | 0                        | 0    | 0     | 0     | 0                | 0        | 0       | 0     | 0                                  | 0          | 11.2875 | 0    | 0       | 0      | 7.49492        | 0             | 0       | 0        | 0        | 0                  | 0       | 0     | 0           | 0                 | 0       | 4.6585  | 0        | 0                                 | 6.49958       | 0                              | 0    | 1.12117   | 12.7718 | 0             | 0                | 0     | 0      | 0          | 0       | 8.02917 | 0     | 14.7132 | 0         | 0       | 0          | 0    | 0         | 10.926   | 0      | 0             | 0      | 0     | 0                                 | 0        | 0         | 9.61875 | 1.3155   | 0     | 0         | 0    | 0    | 9.36908 | 9.30625     | 0      | 12.7374 | 0       | 0     | 10.926  | 0      | 0          | 0     | 0        | 0      | 0          | 0    | 5.13533 | 0       | 0       | 0       | 0     | 4.6125        | 5.70917   | 9.13775    | 0     | 10.3112   | 0          | 0      | 0        | 0    | 18.4743 | 0          | 0          | 0         | 0       | 0      | 8.81283 | 9.06558 | 0        | 10.1555    | 0          | 0       | 0          | 0       | 0     | 9.44008     | 0             | 0           | 0         | 0     | 0       | 0    | 0           | 0                        | -0.0538333 | 0    | 0        | 0     | 0         | 0             | 0      | 0                | 0        | 0    | 0           | 7.26283 | 14.6823  | 0           | 0     | 0       | 8.65533 | 0      | 0      | 0                | 0                     | 0           | 0            | 4.21583                   | 0                                | 0     | 13.8162    | 0                     | 0            | 0       | 9.91017 | 0          | 0            | 0         | 0            | 7.39567  | 9.61117  | 0               | 0       | 0            | 0             | 0                                         | 0           | 13.6281 | 0         | 0     | 0        | 0                      | 0         | 2.19492 | 6.995       | 0     | 0      | 0          | 0        | 0        | 0           | 0    | 0     | 0                   | 19.9612 | 0      | 0            | 0                        | 0      | 7.52508 | 0                    | 8.42608        | 8.59308                 | 0             | 0       | 0          | 0         | 0       | 0              | 0              | 0     | 0      | 0        | 5.11833\n",
       "1754 | 0           | 12.5482 | 0       | 0              | 11.1162 | 0      | 0        | 0                   | 0         | 0       | 0     | 0    | 0         | 5.90733 | 0          | 0       | 0       | 0            | 0          | 0        | 5.69292 | 9.13792 | 0      | 0     | 0      | 0       | 0                                 | 10.2522                | 0        | 0      | 0                      | 10.4567  | 0            | 0     | 0       | 0        | 0        | 0      | 0          | 0              | 0                        | 0    | 0     | 0     | 0                | 0        | 0       | 0     | 0                                  | 0          | 11.1303 | 0    | 0       | 0      | 7.28542        | 0             | 0       | 0        | 0        | 0                  | 0       | 0     | 0           | 0                 | 0       | 4.65392 | 0        | 0                                 | 6.62175       | 0                              | 0    | 1.24392   | 12.6662 | 0             | 0                | 0     | 0      | 0          | 0       | 7.75983 | 0     | 14.7948 | 0         | 0       | 0          | 0    | 0         | 10.7816  | 0      | 0             | 0      | 0     | 0                                 | 0        | 0         | 9.50142 | 1.55792  | 0     | 0         | 0    | 0    | 9.35642 | 9.209       | 0      | 12.5633 | 0       | 0     | 10.7816 | 0      | 0          | 0     | 0        | 0      | 0          | 0    | 5.12342 | 0       | 0       | 0       | 0     | 4.32667       | 5.67717   | 8.82758    | 0     | 10.3217   | 0          | 0      | 0        | 0    | 18.5128 | 0          | 0          | 0         | 0       | 0      | 8.88767 | 8.81275 | 0        | 10.1079    | 0          | 0       | 0          | 0       | 0     | 9.11183     | 0             | 0           | 0         | 0     | 0       | 0    | 0           | 0                        | 0.0841667  | 0    | 0        | 0     | 0         | 0             | 0      | 0                | 0        | 0    | 0           | 7.148   | 14.7879  | 0           | 0     | 0       | 8.66983 | 0      | 0      | 0                | 0                     | 0           | 0            | 0                         | 0                                | 0     | 13.6092    | 0                     | 0            | 0       | 9.86275 | 0          | 0            | 0         | 0            | 7.26917  | 9.40675  | 0               | 0       | 0            | 0             | 0                                         | 0           | 13.6551 | 0         | 0     | 0        | 0                      | 0         | 2.27433 | 6.7115      | 0     | 0      | 0          | 0        | 0        | 0           | 0    | 0     | 0                   | 20.0383 | 0      | 0            | 0                        | 0      | 7.63525 | 0                    | 8.33883        | 8.47867                 | 0             | 0       | 0          | 0         | 0       | 0              | 0              | 0     | 0      | 0        | 5.11808\n",
       "1755 | 0           | 12.3226 | 0       | 0              | 10.8067 | 0      | 0        | 0                   | 0         | 0       | 0     | 0    | 0         | 5.67192 | 0          | 0       | 0       | 0            | 0          | 0        | 5.58017 | 8.88558 | 0      | 0     | 0      | 0       | 0                                 | 10.0379                | 0        | 0      | 0                      | 10.2442  | 0            | 0     | 0       | 0        | 0        | 0      | 0          | 0              | 0                        | 0    | 0     | 0     | 0                | 0        | 0       | 0     | 0                                  | 0          | 10.9145 | 0    | 0       | 0      | 7.06283        | 0             | 0       | 0        | 0        | 0                  | 0       | 0     | 0           | 0                 | 0       | 4.55375 | 0        | 0                                 | 6.26767       | 0                              | 0    | 1.03325   | 12.3435 | 0             | 0                | 0     | 0      | 0          | 0       | 7.52    | 0     | 14.5553 | 0         | 0       | 0          | 0    | 0         | 10.4727  | 0      | 0             | 0      | 0     | 0                                 | 0        | 0         | 9.299   | 1.20225  | 0     | 0         | 0    | 0    | 9.04967 | 8.92458     | 0      | 12.3298 | 0       | 0     | 10.4727 | 0      | 0          | 0     | 0        | 0      | 0          | 0    | 5.00367 | 0       | 0       | 0       | 0     | 4.05333       | 5.54075   | 8.54558    | 0     | 10.0994   | 0          | 0      | 0        | 0    | 18.2548 | 0          | 0          | 0         | 0       | 0      | 8.71358 | 8.5545  | 0        | 9.89008    | 0          | 0       | 0          | 0       | 0     | 8.92475     | 0             | 0           | 0         | 0     | 0       | 0    | 0           | 0                        | -0.271917  | 0    | 0        | 0     | 0         | 0             | 0      | 0                | 0        | 0    | 0           | 6.96633 | 14.4789  | 0           | 0     | 0       | 8.47808 | 0      | 0      | 0                | 0                     | 0           | 0            | 0                         | 0                                | 0     | 13.392     | 0                     | 0            | 0       | 9.65225 | 0          | 0            | 0         | 0            | 7.07242  | 9.1855   | 0               | 0       | 0            | 0             | 0                                         | 0           | 13.3447 | 0         | 0     | 0        | 0                      | 0         | 1.9205  | 6.3995      | 0     | 0      | 0          | 0        | 0        | 0           | 0    | 0     | 0                   | 19.7646 | 0      | 0            | 0                        | 0      | 7.47825 | 0                    | 8.05483        | 8.19658                 | 0             | 0       | 0          | 0         | 0       | 0              | 0              | 0     | 0      | 0        | 4.73283\n",
       "1756 | 0           | 13.0259 | 0       | 0              | 11.0978 | 0      | 0        | 0                   | 0         | 0       | 0     | 0    | 0         | 6.46358 | 0          | 0       | 0       | 0            | 0          | 0        | 6.29742 | 9.398   | 0      | 0     | 0      | 0       | 0                                 | 10.77                  | 0        | 0      | 0                      | 11.0122  | 0            | 0     | 0       | 0        | 0        | 0      | 0          | 0              | 0                        | 0    | 0     | 0     | 0                | 0        | 0       | 0     | 0                                  | 0          | 11.6509 | 0    | 0       | 0      | 8.07967        | 0             | 0       | 0        | 0        | 0                  | 0       | 0     | 0           | 0                 | 0       | 5.03808 | 0        | 0                                 | 6.77783       | 0                              | 0    | 1.42458   | 12.711  | 0             | 0                | 0     | 0      | 0          | 0       | 8.40875 | 0     | 15.2567 | 0         | 0       | 0          | 0    | 0         | 10.8317  | 0      | 0             | 0      | 0     | 0                                 | 0        | 0         | 10.1645 | 1.73833  | 0     | 0         | 0    | 0    | 9.50142 | 9.39425     | 0      | 12.8488 | 0       | 0     | 10.8317 | 0      | 0          | 0     | 0        | 0      | 0          | 0    | 5.59683 | 0       | 0       | 0       | 0     | 4.63825       | 6.26308   | 9.05292    | 0     | 10.8294   | 0          | 0      | 0        | 0    | 18.7946 | 0          | 0          | 0         | 0       | 0      | 9.51142 | 8.863   | 0        | 10.6161    | 0          | 0       | 0          | 0       | 0     | 9.56867     | 0             | 0           | 0         | 0     | 0       | 0    | 0           | 0                        | 0.19475    | 0    | 0        | 0     | 0         | 0             | 0      | 0                | 0        | 0    | 0           | 7.97642 | 14.8343  | 0           | 0     | 0       | 9.29583 | 0      | 0      | 0                | 0                     | 0           | 0            | 0                         | 0                                | 0     | 13.9949    | 0                     | 0            | 0       | 10.4285 | 0          | 0            | 0         | 0            | 8.01267  | 9.90658  | 0               | 0       | 0            | 0             | 0                                         | 0           | 13.6757 | 0         | 0     | 0        | 0                      | 0         | 2.393   | 6.78933     | 0     | 0      | 0          | 0        | 0        | 0           | 0    | 0     | 0                   | 20.2291 | 0      | 0            | 0                        | 0      | 8.2355  | 0                    | 8.53608        | 8.66958                 | 0             | 0       | 0          | 0         | 0       | 0              | 0              | 0     | 0      | 0        | 5.1605\n",
       "1757 | 0           | 12.7303 | 0       | 0              | 10.8682 | 0      | 0        | 0                   | 0         | 0       | 0     | 0    | 0         | 6.09717 | 0          | 0       | 0       | 0            | 0          | 0        | 6.30167 | 9.22142 | 0      | 0     | 0      | 0       | 0                                 | 10.4391                | 0        | 0      | 0                      | 10.7598  | 0            | 0     | 0       | 0        | 0        | 0      | 0          | 0              | 0                        | 0    | 0     | 0     | 0                | 0        | 0       | 0     | 0                                  | 0          | 11.3068 | 0    | 0       | 0      | 7.69675        | 0             | 0       | 0        | 0        | 0                  | 0       | 0     | 0           | 0                 | 0       | 5.27133 | 0        | 0                                 | 6.86583       | 0                              | 0    | 1.70183   | 12.5216 | 0             | 0                | 0     | 0      | 0          | 0       | 8.10858 | 0     | 14.9987 | 0         | 0       | 0          | 0    | 0         | 10.7017  | 0      | 0             | 0      | 0     | 0                                 | 0        | 0         | 9.84108 | 1.77383  | 0     | 0         | 0    | 0    | 9.46283 | 9.36492     | 0      | 12.5326 | 0       | 0     | 10.7017 | 0      | 0          | 0     | 0        | 0      | 0          | 0    | 5.74133 | 0       | 0       | 0       | 0     | 4.29592       | 6.30183   | 8.84275    | 0     | 10.5432   | 0          | 0      | 0        | 0    | 18.5369 | 0          | 0          | 0         | 0       | 0      | 9.33492 | 8.57608 | 0        | 10.3067    | 0          | 0       | 0          | 0       | 0     | 9.43625     | 0             | 0           | 0         | 0     | 0       | 0    | 0           | 0                        | 0.38025    | 0    | 0        | 0     | 0         | 0             | 0      | 0                | 0        | 0    | 0           | 7.746   | 14.7103  | 0           | 0     | 0       | 9.05058 | 0      | 0      | 0                | 0                     | 0           | 0            | 0                         | 0                                | 0     | 13.6488    | 0                     | 0            | 0       | 10.1244 | 0          | 0            | 0         | 0            | 7.69475  | 9.54933  | 0               | 0       | 0            | 0             | 0                                         | 0           | 13.5117 | 0         | 0     | 0        | 0                      | 0         | 2.62817 | 6.48158     | 0     | 0      | 0          | 0        | 0        | 0           | 0    | 0     | 0                   | 20.0174 | 0      | 0            | 0                        | 0      | 8.129   | 0                    | 8.50158        | 8.63833                 | 0             | 0       | 0          | 0         | 0       | 0              | 0              | 0     | 0      | 0        | 5.41383\n",
       "1758 | 0           | 11.4443 | 0       | 0              | 10.1447 | 0      | 0        | 0                   | 0         | 0       | 0     | 0    | 0         | 5.36342 | 0          | 0       | 0       | 0            | 0          | 0        | 4.34367 | 8.91433 | 0      | 0     | 0      | 0       | 0                                 | 9.39533                | 0        | 0      | 0                      | 9.19908  | 0            | 0     | 0       | 0        | 0        | 0      | 0          | 0              | 0                        | 0    | 0     | 0     | 0                | 0        | 0       | 0     | 0                                  | 0          | 10.3803 | 0    | 0       | 0      | 6.79842        | 0             | 0       | 0        | 0        | 0                  | 0       | 0     | 0           | 0                 | 0       | 3.23958 | 0        | 0                                 | 5.58392       | 0                              | 0    | -0.338083 | 11.7373 | 0             | 0                | 0     | 0      | 0          | 0       | 7.49608 | 0     | 13.4913 | 0         | 0       | 0          | 0    | 0         | 10.0683  | 0      | 0             | 0      | 0     | 0                                 | 0        | 0         | 8.68817 | 0.150667 | 0     | 0         | 0    | 0    | 8.50692 | 8.60758     | 0      | 11.7922 | 0       | 0     | 10.0683 | 0      | 0          | 0     | 0        | 0      | 0          | 0    | 3.84408 | 0       | 0       | 0       | 0     | 3.82775       | 4.55067   | 8.512      | 0     | 9.176     | 0          | 0      | 0        | 0    | 17.2762 | 0          | 0          | 0         | 0       | 0      | 7.55133 | 8.151   | 0        | 9.09675    | 0          | 0       | 0          | 0       | 0     | 9.08392     | 0             | 0           | 0         | 0     | 0       | 0    | 0           | 0                        | -1.1045    | 0    | 0        | 0     | 0         | 0             | 0      | 0                | 0        | 0    | 0           | 6.42908 | 13.3563  | 0           | 0     | 0       | 7.50683 | 0      | 0      | 0                | 0                     | 0           | 0            | 2.85958                   | 0                                | 0     | 12.9401    | 0                     | 0            | 0       | 8.85742 | 0          | 0            | 0         | 0            | 6.5085   | 8.76642  | 0               | 0       | 0            | 0             | 0                                         | 0           | 12.3889 | 0         | 0     | 0        | 0                      | 0         | 1.20475 | 6.09708     | 0     | 0      | 0          | 0        | 0        | 0           | 0    | 0     | 0                   | 18.6853 | 0      | 0            | 0                        | 0      | 6.181   | 0                    | 7.69817        | 7.915                   | 0             | 0       | 0          | 0         | 0       | 0              | 0              | 0     | 0      | 0        | 4.07483\n",
       "1759 | 0           | 12.4929 | 0       | 0              | 11.2997 | 0      | 0        | 0                   | 0         | 0       | 0     | 0    | 0         | 6.36383 | 0          | 24.5444 | 0       | 0            | 0          | 0        | 5.53625 | 9.86375 | 0      | 0     | 0      | 0       | 0                                 | 10.438                 | 0        | 0      | 0                      | 10.2404  | 0            | 0     | 0       | 0        | 0        | 0      | 0          | 0              | 0                        | 0    | 0     | 0     | 0                | 0        | 0       | 0     | 0                                  | 0          | 11.4184 | 0    | 0       | 0      | 7.721          | 0             | 0       | 0        | 0        | 0                  | 0       | 0     | 0           | 0                 | 0       | 4.6355  | 0        | 0                                 | 6.6355        | 0                              | 0    | 1.0075    | 12.8395 | 0             | 0                | 0     | 0      | 0          | 0       | 8.41275 | 0     | 14.5348 | 0         | 0       | 0          | 0    | 0         | 11.1004  | 0      | 0             | 0      | 0     | 0                                 | 0        | 0         | 9.70275 | 1.19025  | 0     | 0         | 0    | 0    | 9.49833 | 9.58308     | 0      | 12.8982 | 0       | 0     | 11.1004 | 0      | 0          | 0     | 0        | 0      | 0          | 0    | 5.17183 | 0       | 0       | 0       | 0     | 4.88883       | 5.80017   | 9.49992    | 0     | 10.2196   | 0          | 0      | 0        | 0    | 18.3628 | 0          | 0          | 0         | 0       | 0      | 8.62158 | 9.33225 | 0        | 10.1411    | 0          | 0       | 0          | 0       | 0     | 9.95958     | 0             | 0           | 0         | 0     | 0       | 0    | 0           | 0                        | 0.0870833  | 0    | 0        | 0     | 0         | 0             | 0      | 0                | 0        | 0    | 0           | 7.46658 | 14.4526  | 0           | 0     | 0       | 8.55258 | 0      | 0      | 0                | 0                     | 0           | 0            | 3.74417                   | 0                                | 0     | 14.0188    | 0                     | 0            | 0       | 9.89367 | 0          | 0            | 0         | 0            | 7.509    | 9.80275  | 0               | 0       | 0            | 0             | 0                                         | 0           | 13.504  | 0         | 0     | 0        | 0                      | 0         | 2.47167 | 7.24742     | 0     | 0      | 0          | 0        | 0        | 0           | 0    | 0     | 0                   | 19.7935 | 0      | 0            | 0                        | 0      | 7.28083 | 0                    | 8.68208        | 8.89517                 | 0             | 0       | 0          | 0         | 0       | 0              | 0              | 0     | 0      | 0        | 5.45208\n",
       "1760 | 0           | 12.155  | 0       | 0              | 11.0824 | 0      | 0        | 0                   | 0         | 0       | 0     | 0    | 0         | 6.3795  | 0          | 0       | 0       | 0            | 0          | 0        | 4.7515  | 9.65242 | 0      | 0     | 0      | 0       | 0                                 | 10.2336                | 0        | 0      | 0                      | 9.8045   | 0            | 0     | 0       | 0        | 0        | 0      | 0          | 0              | 0                        | 0    | 0     | 0     | 0                | 0        | 0       | 0     | 0                                  | 0          | 11.2765 | 0    | 0       | 0      | 7.6905         | 0             | 0       | 0        | 0        | 0                  | 0       | 0     | 0           | 0                 | 0       | 3.45058 | 0        | 0                                 | 5.72208       | 0                              | 0    | -0.2865   | 12.5932 | 0             | 0                | 0     | 0      | 0          | 0       | 8.38017 | 0     | 14.0864 | 0         | 0       | 0          | 0    | 0         | 10.7183  | 0      | 0             | 0      | 0     | 0                                 | 0        | 0         | 9.49708 | 0.26025  | 0     | 0         | 0    | 0    | 8.82892 | 8.92567     | 0      | 12.7324 | 0       | 0     | 10.7183 | 0      | 0          | 0     | 0        | 0      | 0          | 0    | 4.17367 | 0       | 0       | 0       | 0     | 5.0215        | 4.9965    | 9.43883    | 0     | 9.86008   | 0          | 0      | 0        | 0    | 17.9443 | 0          | 0          | 0         | 0       | 0      | 8.07333 | 9.22408 | 0        | 9.85308    | 0          | 0       | 0          | 0       | 0     | 9.514       | 0             | 0           | 0         | 0     | 0       | 0    | 0           | 0                        | -0.92975   | 0    | 0        | 0     | 0         | 0             | 0      | 0                | 0        | 0    | 0           | 7.11367 | 13.899   | 0           | 0     | 0       | 8.13692 | 0      | 0      | 0                | 0                     | 0           | 0            | 0                         | 0                                | 0     | 13.9027    | 0                     | 0            | 0       | 9.60242 | 0          | 0            | 0         | 0            | 7.29767  | 9.73508  | 0               | 0       | 0            | 0             | 0                                         | 0           | 13.0712 | 0         | 0     | 0        | 0                      | 0         | 1.43642 | 7.37467     | 0     | 0      | 0          | 0        | 0        | 0           | 0    | 0     | 0                   | 19.3044 | 0      | 0            | 0                        | 0      | 6.61817 | 0                    | 8.03317        | 8.25558                 | 0             | 0       | 0          | 0         | 0       | 0              | 0              | 0     | 0      | 0        | 4.322\n",
       "1761 | 0           | 12.8763 | 0       | 0              | 11.3019 | 0      | 0        | 0                   | 0         | 0       | 0     | 0    | 0         | 6.57258 | 0          | 0       | 0       | 0            | 0          | 0        | 6.10167 | 9.72242 | 0      | 0     | 0      | 0       | 0                                 | 10.7214                | 0        | 0      | 0                      | 10.7556  | 0            | 0     | 0       | 0        | 0        | 0      | 0          | 0              | 0                        | 0    | 0     | 0     | 0                | 0        | 0       | 0     | 0                                  | 0          | 11.6573 | 0    | 0       | 0      | 8.07392        | 0             | 0       | 0        | 0        | 0                  | 0       | 0     | 0           | 0                 | 0       | 5.096   | 0        | 0                                 | 7.05567       | 0                              | 0    | 1.57208   | 12.9132 | 0             | 0                | 0     | 0      | 0          | 0       | 8.59617 | 0     | 15.0247 | 0         | 0       | 0          | 0    | 0         | 11.0681  | 0      | 0             | 0      | 0     | 0                                 | 0        | 0         | 10.0753 | 1.77792  | 0     | 0         | 0    | 0    | 9.65783 | 9.636       | 0      | 12.9722 | 0       | 0     | 11.0681 | 0      | 0          | 0     | 0        | 0      | 0          | 0    | 5.6375  | 0       | 0       | 0       | 0     | 4.93542       | 6.27317   | 9.41433    | 0     | 10.6452   | 0          | 0      | 0        | 0    | 18.6926 | 0          | 0          | 0         | 0       | 0      | 9.20792 | 9.18108 | 0        | 10.4947    | 0          | 0       | 0          | 0       | 0     | 9.81458     | 0             | 0           | 0         | 0     | 0       | 0    | 0           | 0                        | 0.59025    | 0    | 0        | 0     | 0         | 0             | 0      | 0                | 0        | 0    | 0           | 7.91933 | 14.7587  | 0           | 0     | 0       | 9.06067 | 0      | 0      | 0                | 0                     | 0           | 0            | 0                         | 0                                | 0     | 14.1082    | 0                     | 0            | 0       | 10.2856 | 0          | 0            | 0         | 0            | 7.91633  | 9.98308  | 0               | 0       | 0            | 0             | 0                                         | 0           | 13.6989 | 0         | 0     | 0        | -7.16825               | 0         | 2.915   | 7.18292     | 0     | 0      | 0          | 0        | 0        | 0           | 0    | 0     | 0                   | 20.1348 | 0      | 0            | 0                        | 0      | 7.90708 | 0                    | 8.76383        | 8.934                   | 0             | 0       | 0          | 0         | 0       | 0              | 0              | 0     | 0      | 0        | 5.77158\n",
       "1762 | 0           | 12.7003 | 0       | 0              | 11.1437 | 0      | 0        | 0                   | 0         | 0       | 0     | 0    | 0         | 6.08058 | 0          | 0       | 0       | 0            | 0          | 0        | 5.80308 | 9.06533 | 0      | 0     | 0      | 0       | 0                                 | 10.4418                | 0        | 0      | 0                      | 10.5868  | 0            | 0     | 0       | 0        | 0        | 0      | 0          | 0              | 0                        | 0    | 0     | 0     | 0                | 0        | 0       | 0     | 0                                  | 0          | 11.3248 | 0    | 0       | 0      | 7.42525        | 0             | 0       | 0        | 0        | 0                  | 0       | 0     | 0           | 0                 | 0       | 4.75467 | 0        | 0                                 | 6.23017       | 0                              | 0    | 1.13483   | 12.623  | 0             | 0                | 0     | 0      | 0          | 0       | 7.80592 | 0     | 14.8985 | 0         | 0       | 0          | 0    | 0         | 10.6265  | 0      | 0             | 0      | 0     | 0                                 | 0        | 0         | 9.67567 | 1.21142  | 0     | 0         | 0    | 0    | 9.09283 | 8.9445      | 0      | 12.7426 | 0       | 0     | 10.6265 | 0      | 0          | 0     | 0        | 0      | 0          | 0    | 5.23783 | 0       | 0       | 0       | 0     | 4.48533       | 5.80017   | 8.80083    | 0     | 10.4685   | 0          | 0      | 0        | 0    | 18.6098 | 0          | 0          | 0         | 0       | 0      | 9.011   | 8.95883 | 0        | 10.2777    | 0          | 0       | 0          | 0       | 0     | 8.99083     | 0             | 0           | 0         | 0     | 0       | 0    | 0           | 0                        | -0.234083  | 0    | 0        | 0     | 0         | 0             | 0      | 0                | 0        | 0    | 0           | 7.26325 | 14.7021  | 0           | 0     | 0       | 8.81567 | 0      | 0      | 0                | 0                     | 0           | 0            | 0                         | 0                                | 0     | 13.8185    | 0                     | 0            | 0       | 10.0309 | 0          | 0            | 0         | 0            | 7.431    | 9.60558  | 0               | 0       | 0            | 0             | 0                                         | 0           | 13.6088 | 0         | 0     | 0        | -7.462                 | 0         | 2.07817 | 6.82408     | 0     | 0      | 0          | 0        | 0        | 0           | 0    | 0     | 0                   | 20.0852 | 0      | 0            | 0                        | 0      | 7.73417 | 0                    | 8.0915         | 8.22192                 | 0             | 0       | 0          | 0         | 0       | 0              | 0              | 0     | 0      | 0        | 5.217\n",
       "... (250 rows omitted)"
      ]
     },
     "execution_count": 25,
     "metadata": {},
     "output_type": "execute_result"
    }
   ],
   "source": [
    "pivotTable = temps.select('year', 'country', 'avg').pivot('country', 'year', 'avg', sum)\n",
    "pivotTable"
   ]
  },
  {
   "cell_type": "markdown",
   "metadata": {},
   "source": [
    "### <font color=blue> **Select two countries of your choice to study** </font>\n",
    "Select two countries from our dataset and draw a line plot of the changes in temperature over time.  You only want to graph the years that have data for both your countries of interest (Hint: Use `.select` to choose appropraite columns. You may want to utilize where and are.above() to select those years with data).  There is not a autocheck for this question as you all may have different answers depending on the countres you pick.  "
   ]
  },
  {
   "cell_type": "code",
   "execution_count": 26,
   "metadata": {
    "tags": []
   },
   "outputs": [
    {
     "data": {
      "text/html": [
       "<table border=\"1\" class=\"dataframe\">\n",
       "    <thead>\n",
       "        <tr>\n",
       "            <th>year</th> <th>Italy</th> <th>Spain</th>\n",
       "        </tr>\n",
       "    </thead>\n",
       "    <tbody>\n",
       "        <tr>\n",
       "            <td>1851</td> <td>11.9627</td> <td>13.2531</td>\n",
       "        </tr>\n",
       "        <tr>\n",
       "            <td>1852</td> <td>12.7842</td> <td>13.9559</td>\n",
       "        </tr>\n",
       "        <tr>\n",
       "            <td>1853</td> <td>12.2771</td> <td>12.6951</td>\n",
       "        </tr>\n",
       "        <tr>\n",
       "            <td>1854</td> <td>12.0867</td> <td>13.2797</td>\n",
       "        </tr>\n",
       "        <tr>\n",
       "            <td>1855</td> <td>12.0577</td> <td>12.8126</td>\n",
       "        </tr>\n",
       "    </tbody>\n",
       "</table>\n",
       "<p>... (157 rows omitted)</p>"
      ],
      "text/plain": [
       "<IPython.core.display.HTML object>"
      ]
     },
     "metadata": {},
     "output_type": "display_data"
    }
   ],
   "source": [
    "yourCountries = pivotTable.select('year','Italy','Spain').where('year',are.above(1850))\n",
    "yourCountries.show(5)"
   ]
  },
  {
   "cell_type": "code",
   "execution_count": 27,
   "metadata": {
    "tags": []
   },
   "outputs": [
    {
     "data": {
      "text/html": [
       "<table border=\"1\" class=\"dataframe\">\n",
       "    <thead>\n",
       "        <tr>\n",
       "            <th>year</th> <th>Finland</th> <th>Brazil</th>\n",
       "        </tr>\n",
       "    </thead>\n",
       "    <tbody>\n",
       "        <tr>\n",
       "            <td>1851</td> <td>1.59217 </td> <td>24.3423</td>\n",
       "        </tr>\n",
       "        <tr>\n",
       "            <td>1852</td> <td>0.42075 </td> <td>24.3599</td>\n",
       "        </tr>\n",
       "        <tr>\n",
       "            <td>1853</td> <td>1.58358 </td> <td>24.3702</td>\n",
       "        </tr>\n",
       "        <tr>\n",
       "            <td>1854</td> <td>1.63567 </td> <td>24.4651</td>\n",
       "        </tr>\n",
       "        <tr>\n",
       "            <td>1855</td> <td>0.173083</td> <td>24.4909</td>\n",
       "        </tr>\n",
       "    </tbody>\n",
       "</table>\n",
       "<p>... (157 rows omitted)</p>"
      ],
      "text/plain": [
       "<IPython.core.display.HTML object>"
      ]
     },
     "metadata": {},
     "output_type": "display_data"
    }
   ],
   "source": [
    "yourCountries_demo = pivotTable.select('year','Finland','Brazil').where('year',are.above(1850))\n",
    "yourCountries_demo.show(5)"
   ]
  },
  {
   "cell_type": "code",
   "execution_count": 28,
   "metadata": {
    "tags": []
   },
   "outputs": [
    {
     "data": {
      "image/png": "[encoded data removed]",
      "text/plain": [
       "<Figure size 600x600 with 1 Axes>"
      ]
     },
     "metadata": {},
     "output_type": "display_data"
    }
   ],
   "source": [
    "yourCountries.plot('year')\n",
    "plt.ylabel('Temperature [$^\\circ$C]')\n",
    "plt.xticks(np.arange(1850, 2025, 25))\n",
    "plt.show()"
   ]
  },
  {
   "cell_type": "markdown",
   "metadata": {},
   "source": [
    "### <font color=blue> **Question 9. Discussion** </font>\n",
    "In this markdown cell, explain an observation you see from the figure you generated.\n",
    "\n",
    "\n",
    "Spain is overall higher average temperature but have very similar trends. Both do show overall increase, especially after 1975."
   ]
  },
  {
   "cell_type": "markdown",
   "metadata": {},
   "source": [
    "### <font color=blue> **Question 10.** </font>\n",
    "Null and alternative hypothesis.  This time well will look at the overall trend rather diffences between starting and ending temperature.\n",
    "\n",
    "Based on our preliminary figures and what we know about creating good hypotheses, set the null and alternative hypothesis below:  "
   ]
  },
  {
   "cell_type": "markdown",
   "metadata": {},
   "source": [
    "\n",
    "-  Hypothesis: The temperatures are trending upward.\n",
    "-  Null hypothesis:   The temperatures are not trending upward. \n"
   ]
  },
  {
   "cell_type": "markdown",
   "metadata": {},
   "source": [
    "To test the null hypothesis we're interested in identifying whether the temperature increased or decreased in each time period.  \n",
    "Temperatures vary widely across countries and years, presumably due to the vast array of differences among the climates and human intervention. Rather than attempting to analyze the temperatures themselves, here we will restrict our analysis to whether or not temperatures increased or decreased over certain time spans. We will not concern ourselves with how much temperatures increased or decreased; only the direction of the changes - whether they increased or decreased.\n",
    "\n",
    "The np.diff function takes an array of values and computes the differences between adjacent items of a list or array as such:\n",
    "\n",
    "    [item 1 - item 0 , item 2 - item 1 , item 3 - item 2, ...]\n",
    "\n",
    "Instead, we may wish to compute the difference between items that are two positions apart. For example, given a 5-element array, we may want:\n",
    "\n",
    "    [item 2 - item 0 , item 3 - item 1 , item 4 - item 2]\n",
    "\n",
    "The diff_n function below computes this result."
   ]
  },
  {
   "cell_type": "code",
   "execution_count": 29,
   "metadata": {
    "tags": []
   },
   "outputs": [
    {
     "data": {
      "text/plain": [
       "array([6, 3, 7])"
      ]
     },
     "execution_count": 29,
     "metadata": {},
     "output_type": "execute_result"
    }
   ],
   "source": [
    "def diff_n(values, n):\n",
    "    '''\n",
    "    Parameters:\n",
    "    values is an array of numbers\n",
    "    n is the offset (how far apart the numbers are in the array)\n",
    "    \n",
    "    Example: \n",
    "    If values = [2, 6, 8, 9, 15] and n = 2,\n",
    "    the function will subtract values that are 2 apart: (8 - 2), (9 - 6) and (15 - 9) \n",
    "    '''\n",
    "    return np.array(values)[n:] - np.array(values)[:-n]\n",
    "\n",
    "diff_n(make_array(2, 6, 8, 9, 15), 2)"
   ]
  },
  {
   "cell_type": "markdown",
   "metadata": {},
   "source": [
    "### <font color=blue> **Question 11.** </font> \n",
    "Implement the function changes that takes an array of temperatures for a country, ordered by increasing year. For all two-year periods (e.g., from 1960 to 1962), it computes and returns the number of increases minus the number of decreases.\n",
    "\n",
    "For example, the array r = make_array(10, 7, 12, 9, 13, 9, 11) contains three increases (10 to 12, 7 to 9, and 12 to 13), 1 decrease (13 to 11), and one change that is neither an increase or decrease (9 to 9). Therefore, changes(r) would return 2, the difference between three increases and one decrease.\n",
    "\n",
    "Hint: Consider using the `diff_n` function combined with boolean functions which use `np.count_non-zero` when array elements after using `diff_n` represent increases and separately when they represent decreases. Recall that Python counts `True` as 1 and `False` as 0, so counting non-zeros counts up all of the values that are `True`."
   ]
  },
  {
   "cell_type": "code",
   "execution_count": 54,
   "metadata": {},
   "outputs": [],
   "source": [
    "def changes(values, n = 2):\n",
    "\n",
    "    ans = []\n",
    "    \n",
    "    for i in range(n,len(values)):\n",
    "       ans.append(values[i] - values[i-n])\n",
    "    \n",
    "    count = 0    \n",
    "    for n in ans:\n",
    "        if n > 0:\n",
    "            count = count + 1\n",
    "        elif n < 0:\n",
    "            count = count - 1\n",
    "\n",
    "    return count"
   ]
  },
  {
   "cell_type": "code",
   "execution_count": 55,
   "metadata": {
    "tags": []
   },
   "outputs": [
    {
     "data": {
      "text/html": [
       "\n",
       "    \n",
       "    \n",
       "        <p>All tests passed!</p>\n",
       "    \n",
       "    "
      ],
      "text/plain": [
       "<gofer.ok.OKTestsResult at 0x7976eb2dba60>"
      ]
     },
     "execution_count": 55,
     "metadata": {},
     "output_type": "execute_result"
    }
   ],
   "source": [
    "# renumber the test\n",
    "check('tests/q11.py')"
   ]
  },
  {
   "cell_type": "markdown",
   "metadata": {},
   "source": [
    "### <font color=blue> **Question 12.** </font>\n",
    "Assign changes_by_country to a table with one row per country that has two columns: the Country name and the Temperature changes statistic computed across all years in our data set for that country. It may be useful to split this process into two steps.   The final table's first 2 rows should look like this:\n",
    "\n",
    "|country    |avg changes| \n",
    "|-----------|-----------| \n",
    "|Afghanistan|18         | \n",
    "|Africa     |8          \n",
    "\n",
    "Hint: You can use a `group` method to apply your `changes` function to each column in the original data set while grouping on each country. See this example from Olympic data below:\n",
    "\n",
    "**Note** This temperature dataset has a few peculiarities, such as including Africa in the `country` column."
   ]
  },
  {
   "cell_type": "code",
   "execution_count": 74,
   "metadata": {},
   "outputs": [
    {
     "data": {
      "text/html": [
       "<table border=\"1\" class=\"dataframe\">\n",
       "    <thead>\n",
       "        <tr>\n",
       "            <th>Year</th> <th>Team</th> <th>count</th>\n",
       "        </tr>\n",
       "    </thead>\n",
       "    <tbody>\n",
       "        <tr>\n",
       "            <td>1924</td> <td>Norway       </td> <td>72   </td>\n",
       "        </tr>\n",
       "        <tr>\n",
       "            <td>1924</td> <td>United States</td> <td>41   </td>\n",
       "        </tr>\n",
       "        <tr>\n",
       "            <td>1928</td> <td>Norway       </td> <td>68   </td>\n",
       "        </tr>\n",
       "        <tr>\n",
       "            <td>1928</td> <td>United States</td> <td>31   </td>\n",
       "        </tr>\n",
       "        <tr>\n",
       "            <td>1932</td> <td>Norway       </td> <td>66   </td>\n",
       "        </tr>\n",
       "        <tr>\n",
       "            <td>1932</td> <td>United States</td> <td>54   </td>\n",
       "        </tr>\n",
       "        <tr>\n",
       "            <td>1936</td> <td>Norway       </td> <td>94   </td>\n",
       "        </tr>\n",
       "        <tr>\n",
       "            <td>1936</td> <td>United States</td> <td>58   </td>\n",
       "        </tr>\n",
       "        <tr>\n",
       "            <td>1948</td> <td>Norway       </td> <td>126  </td>\n",
       "        </tr>\n",
       "        <tr>\n",
       "            <td>1948</td> <td>United States</td> <td>81   </td>\n",
       "        </tr>\n",
       "    </tbody>\n",
       "</table>\n",
       "<p>... (34 rows omitted)</p>"
      ],
      "text/plain": [
       "Year | Team          | count\n",
       "1924 | Norway        | 72\n",
       "1924 | United States | 41\n",
       "1928 | Norway        | 68\n",
       "1928 | United States | 31\n",
       "1932 | Norway        | 66\n",
       "1932 | United States | 54\n",
       "1936 | Norway        | 94\n",
       "1936 | United States | 58\n",
       "1948 | Norway        | 126\n",
       "1948 | United States | 81\n",
       "... (34 rows omitted)"
      ]
     },
     "execution_count": 74,
     "metadata": {},
     "output_type": "execute_result"
    }
   ],
   "source": [
    "NORUSA = Table.read_table('NORUSA.csv')\n",
    "NORUSA_NUMBERS = NORUSA.group(['Year','Team']) # Number of athletes per year\n",
    "NORUSA_NUMBERS"
   ]
  },
  {
   "cell_type": "markdown",
   "metadata": {},
   "source": [
    "#### Now compute the increases - decreases for the winter olympics for each team"
   ]
  },
  {
   "cell_type": "markdown",
   "metadata": {},
   "source": [
    "Below code allows us to group 'Team' across all the years of the Olympics to give the following table.\n",
    "|Team| Year changes | count changes|\n",
    "|----|---|---|\n",
    "|Norway|20|10|\n",
    "|United States|20|18\n",
    "\n",
    "Apply this concept to create the table showing net change for each country."
   ]
  },
  {
   "cell_type": "code",
   "execution_count": 57,
   "metadata": {},
   "outputs": [
    {
     "data": {
      "text/html": [
       "<table border=\"1\" class=\"dataframe\">\n",
       "    <thead>\n",
       "        <tr>\n",
       "            <th>Team</th> <th>Year changes</th> <th>count changes</th>\n",
       "        </tr>\n",
       "    </thead>\n",
       "    <tbody>\n",
       "        <tr>\n",
       "            <td>Norway       </td> <td>20          </td> <td>10           </td>\n",
       "        </tr>\n",
       "        <tr>\n",
       "            <td>United States</td> <td>20          </td> <td>18           </td>\n",
       "        </tr>\n",
       "    </tbody>\n",
       "</table>"
      ],
      "text/plain": [
       "Team          | Year changes | count changes\n",
       "Norway        | 20           | 10\n",
       "United States | 20           | 18"
      ]
     },
     "execution_count": 57,
     "metadata": {},
     "output_type": "execute_result"
    }
   ],
   "source": [
    "NORUSA_NUMBERS.group('Team',changes)"
   ]
  },
  {
   "cell_type": "code",
   "execution_count": 76,
   "metadata": {},
   "outputs": [
    {
     "ename": "ValueError",
     "evalue": "Column length mismatch. New column does not have the same number of rows as table.",
     "output_type": "error",
     "traceback": [
      "\u001b[0;31m---------------------------------------------------------------------------\u001b[0m",
      "\u001b[0;31mValueError\u001b[0m                                Traceback (most recent call last)",
      "Cell \u001b[0;32mIn[76], line 1\u001b[0m\n\u001b[0;32m----> 1\u001b[0m changes_by_country \u001b[38;5;241m=\u001b[39m \u001b[43mTable\u001b[49m\u001b[43m(\u001b[49m\u001b[43m)\u001b[49m\u001b[38;5;241;43m.\u001b[39;49m\u001b[43mwith_columns\u001b[49m\u001b[43m(\u001b[49m\n\u001b[1;32m      2\u001b[0m \u001b[43m    \u001b[49m\u001b[38;5;124;43m\"\u001b[39;49m\u001b[38;5;124;43mcountry\u001b[39;49m\u001b[38;5;124;43m\"\u001b[39;49m\u001b[43m,\u001b[49m\u001b[43m \u001b[49m\u001b[43mNORUSA\u001b[49m\u001b[38;5;241;43m.\u001b[39;49m\u001b[43mcolumn\u001b[49m\u001b[43m(\u001b[49m\u001b[38;5;124;43m'\u001b[39;49m\u001b[38;5;124;43mTeam\u001b[39;49m\u001b[38;5;124;43m'\u001b[39;49m\u001b[43m)\u001b[49m\u001b[43m,\u001b[49m\n\u001b[1;32m      3\u001b[0m \u001b[43m    \u001b[49m\u001b[38;5;124;43m\"\u001b[39;49m\u001b[38;5;124;43mavg changes\u001b[39;49m\u001b[38;5;124;43m\"\u001b[39;49m\u001b[43m,\u001b[49m\u001b[43m \u001b[49m\u001b[43mtemp_change\u001b[49m\u001b[38;5;241;43m.\u001b[39;49m\u001b[43mcolumn\u001b[49m\u001b[43m(\u001b[49m\u001b[38;5;124;43m'\u001b[39;49m\u001b[38;5;124;43mT_diff\u001b[39;49m\u001b[38;5;124;43m'\u001b[39;49m\u001b[43m)\u001b[49m\u001b[43m)\u001b[49m\n\u001b[1;32m      4\u001b[0m changes_by_country\n",
      "File \u001b[0;32m/opt/conda/lib/python3.10/site-packages/datascience/tables.py:2583\u001b[0m, in \u001b[0;36mTable.with_columns\u001b[0;34m(self, *labels_and_values, **formatter)\u001b[0m\n\u001b[1;32m   2581\u001b[0m \u001b[38;5;28;01mfor\u001b[39;00m i \u001b[38;5;129;01min\u001b[39;00m \u001b[38;5;28mrange\u001b[39m(\u001b[38;5;241m0\u001b[39m, \u001b[38;5;28mlen\u001b[39m(labels_and_values), \u001b[38;5;241m2\u001b[39m):\n\u001b[1;32m   2582\u001b[0m     label, values \u001b[38;5;241m=\u001b[39m labels_and_values[i], labels_and_values[i\u001b[38;5;241m+\u001b[39m\u001b[38;5;241m1\u001b[39m]\n\u001b[0;32m-> 2583\u001b[0m     \u001b[38;5;28mself\u001b[39m \u001b[38;5;241m=\u001b[39m \u001b[38;5;28;43mself\u001b[39;49m\u001b[38;5;241;43m.\u001b[39;49m\u001b[43mwith_column\u001b[49m\u001b[43m(\u001b[49m\u001b[43mlabel\u001b[49m\u001b[43m,\u001b[49m\u001b[43m \u001b[49m\u001b[43mvalues\u001b[49m\u001b[43m,\u001b[49m\u001b[43m \u001b[49m\u001b[43mformatter\u001b[49m\u001b[43m)\u001b[49m\n\u001b[1;32m   2584\u001b[0m \u001b[38;5;28;01mreturn\u001b[39;00m \u001b[38;5;28mself\u001b[39m\n",
      "File \u001b[0;32m/opt/conda/lib/python3.10/site-packages/datascience/tables.py:2500\u001b[0m, in \u001b[0;36mTable.with_column\u001b[0;34m(self, label, values, formatter)\u001b[0m\n\u001b[1;32m   2498\u001b[0m \u001b[38;5;28;01melif\u001b[39;00m \u001b[38;5;28misinstance\u001b[39m(formatter, \u001b[38;5;28mdict\u001b[39m):\n\u001b[1;32m   2499\u001b[0m     formatter \u001b[38;5;241m=\u001b[39m formatter[\u001b[38;5;124m\"\u001b[39m\u001b[38;5;124mformatter\u001b[39m\u001b[38;5;124m\"\u001b[39m]\n\u001b[0;32m-> 2500\u001b[0m \u001b[43mnew_table\u001b[49m\u001b[38;5;241;43m.\u001b[39;49m\u001b[43mappend_column\u001b[49m\u001b[43m(\u001b[49m\u001b[43mlabel\u001b[49m\u001b[43m,\u001b[49m\u001b[43m \u001b[49m\u001b[43mvalues\u001b[49m\u001b[43m,\u001b[49m\u001b[43m \u001b[49m\u001b[43mformatter\u001b[49m\u001b[43m)\u001b[49m\n\u001b[1;32m   2501\u001b[0m \u001b[38;5;28;01mreturn\u001b[39;00m new_table\n",
      "File \u001b[0;32m/opt/conda/lib/python3.10/site-packages/datascience/tables.py:991\u001b[0m, in \u001b[0;36mTable.append_column\u001b[0;34m(self, label, values, formatter)\u001b[0m\n\u001b[1;32m    988\u001b[0m         values \u001b[38;5;241m=\u001b[39m np\u001b[38;5;241m.\u001b[39marray(\u001b[38;5;28mtuple\u001b[39m(values))\n\u001b[1;32m    990\u001b[0m \u001b[38;5;28;01mif\u001b[39;00m \u001b[38;5;28mself\u001b[39m\u001b[38;5;241m.\u001b[39mnum_rows \u001b[38;5;241m!=\u001b[39m \u001b[38;5;241m0\u001b[39m \u001b[38;5;129;01mand\u001b[39;00m \u001b[38;5;28mlen\u001b[39m(values) \u001b[38;5;241m!=\u001b[39m \u001b[38;5;28mself\u001b[39m\u001b[38;5;241m.\u001b[39mnum_rows:\n\u001b[0;32m--> 991\u001b[0m     \u001b[38;5;28;01mraise\u001b[39;00m \u001b[38;5;167;01mValueError\u001b[39;00m(\u001b[38;5;124m'\u001b[39m\u001b[38;5;124mColumn length mismatch. New column does not have \u001b[39m\u001b[38;5;124m'\u001b[39m\n\u001b[1;32m    992\u001b[0m                      \u001b[38;5;124m'\u001b[39m\u001b[38;5;124mthe same number of rows as table.\u001b[39m\u001b[38;5;124m'\u001b[39m)\n\u001b[1;32m    993\u001b[0m \u001b[38;5;28;01melse\u001b[39;00m:\n\u001b[1;32m    994\u001b[0m     \u001b[38;5;28mself\u001b[39m\u001b[38;5;241m.\u001b[39m_num_rows \u001b[38;5;241m=\u001b[39m \u001b[38;5;28mlen\u001b[39m(values)\n",
      "\u001b[0;31mValueError\u001b[0m: Column length mismatch. New column does not have the same number of rows as table."
     ]
    }
   ],
   "source": [
    "changes_by_country = Table().with_columns(\n",
    "    \"country\", NORUSA.column('Team'),\n",
    "    \"avg changes\", temp_change.column('T_diff'))\n",
    "changes_by_country"
   ]
  },
  {
   "cell_type": "code",
   "execution_count": 66,
   "metadata": {},
   "outputs": [
    {
     "data": {
      "text/html": [
       "\n",
       "    \n",
       "    \n",
       "        <p>0 of 1 tests passed</p>\n",
       "        \n",
       "        \n",
       "        <p> <strong>Tests failed: </strong>\n",
       "            <ul>\n",
       "            \n",
       "                <li> \n",
       "    <p><strong style='color: red;'>tests/q12.py</strong></p>\n",
       "\n",
       "    <p><strong>Test code:</strong><pre><div class=\"highlight\" style=\"background: #f8f8f8\"><pre style=\"line-height: 125%;\"><span></span><span style=\"color: #000080; font-weight: bold\">&gt;&gt;&gt; </span>changes_by_country<span style=\"color: #666666\">.</span>take(np<span style=\"color: #666666\">.</span>arange(<span style=\"color: #666666\">4</span>))\n",
       "<span style=\"color: #717171\">country        | avg changes</span>\n",
       "<span style=\"color: #717171\">Afghanistan    | 18</span>\n",
       "<span style=\"color: #717171\">Albania        | -22</span>\n",
       "<span style=\"color: #717171\">Algeria        | 9</span>\n",
       "<span style=\"color: #717171\">American Samoa | -3</span>\n",
       "</pre></div>\n",
       "</pre></p>\n",
       "\n",
       "    <p><strong>Test result:</strong><pre>Trying:\n",
       "    changes_by_country.take(np.arange(4))\n",
       "Expecting:\n",
       "    country        | avg changes\n",
       "    Afghanistan    | 18\n",
       "    Albania        | -22\n",
       "    Algeria        | 9\n",
       "    American Samoa | -3\n",
       "**********************************************************************\n",
       "Line 2, in tests/q12.py 1\n",
       "Failed example:\n",
       "    changes_by_country.take(np.arange(4))\n",
       "Expected:\n",
       "    country        | avg changes\n",
       "    Afghanistan    | 18\n",
       "    Albania        | -22\n",
       "    Algeria        | 9\n",
       "    American Samoa | -3\n",
       "Got:\n",
       "    country        | avg changes\n",
       "    Afghanistan    | 1.48411\n",
       "    Albania        | 1.48411\n",
       "    Algeria        | 1.48411\n",
       "    American Samoa | 1.48411\n",
       "</pre></p>\n",
       "     </li>\n",
       "            \n",
       "            </ul>\n",
       "        \n",
       "    \n",
       "    "
      ],
      "text/plain": [
       "<gofer.ok.OKTestsResult at 0x7976eb1c6fe0>"
      ]
     },
     "execution_count": 66,
     "metadata": {},
     "output_type": "execute_result"
    }
   ],
   "source": [
    "# Need to renumber test\n",
    "check('tests/q12.py')"
   ]
  },
  {
   "cell_type": "markdown",
   "metadata": {},
   "source": [
    "### <font color=blue> **Question 13.** </font>\n",
    "Assign test_stat to the total increases minus the total decreases for all two-year periods and all countries in our data set. For example, if the temperature in Albania went up 23 times and fell 17 times, the total change for Albania would be 6. We want the total value for all the countries together."
   ]
  },
  {
   "cell_type": "code",
   "execution_count": null,
   "metadata": {},
   "outputs": [],
   "source": [
    "test_stat = ...\n",
    "print('Total increases minus total decreases, across all countries and years:', test_stat)"
   ]
  },
  {
   "cell_type": "code",
   "execution_count": null,
   "metadata": {},
   "outputs": [],
   "source": [
    "# Need to renumber test\n",
    "check('tests/q13.py')"
   ]
  },
  {
   "cell_type": "markdown",
   "metadata": {},
   "source": [
    "\"More increases than decreases,\" one person exclaims, \"Temperatures tend to go up across two-year periods. What dire times we live in.\"\n",
    "\n",
    "\"Not so fast,\" another person replies, \"Even if temperatures just moved up and down uniformly at random, there would be some difference between the increases and decreases. There were a lot of countries and a lot of years, so there were many chances for changes to happen. If country temperature increase and decrease at random with equal probability, perhaps this difference was simply due to chance!\"\n",
    "\n",
    "Based on the null hypothesis above that country temperatures increase and decrease by chance, we can simulate our test statistic.  Our test statistic should depend only on whether temperature increased or decreased, not on the size of any change. Thus we choose:\n",
    "\n",
    "    Test Statistic: The number of increases minus the number of decreases"
   ]
  },
  {
   "cell_type": "markdown",
   "metadata": {},
   "source": [
    "The cell below samples increases and decreases at random from a uniform distribution 100 times. The final column of the resulting table gives the number of increases and decreases that resulted from sampling in this way. Using sample_from_distribution is faster than using sample followed by group to compute the same result."
   ]
  },
  {
   "cell_type": "code",
   "execution_count": null,
   "metadata": {},
   "outputs": [],
   "source": [
    "uniform = Table().with_columns(\n",
    "    \"Change\", make_array('Increase', 'Decrease'),\n",
    "    \"Chance\", make_array(0.5,        0.5))\n",
    "uniform.sample_from_distribution('Chance', 100)"
   ]
  },
  {
   "cell_type": "markdown",
   "metadata": {},
   "source": [
    "### <font color=blue> **Question 14.** </font>\n",
    "Complete the simulation below, which samples num_changes increases/decreases at random many times and forms an empirical distribution of your test statistic under the null hypothesis that increases and decreases are equally probable. Your job is to:\n",
    "\n",
    "- fill in the function simulate_under_null, which simulates a single sample under the null hypothesis, and\n",
    "- fill in its argument when it's called below.\n",
    "\n",
    "As a hint, num_changes should be approximately the number of countries times the number of time comparisons (you can find the number of year comparisons by using diff_n().  "
   ]
  },
  {
   "cell_type": "code",
   "execution_count": null,
   "metadata": {},
   "outputs": [],
   "source": [
    "def simulate_under_null(num_chances_to_change):\n",
    "    \"\"\"Simulates some number changing several times, with an equal\n",
    "    chance to increase or decrease.  Returns the value of your\n",
    "    test statistic for these simulated changes.\n",
    "    \n",
    "    num_chances_to_change is the number of times the number changes.\n",
    "    \"\"\"\n",
    "    uniform = Table().with_columns(\n",
    "        \"Change\", make_array('Increase', 'Decrease'),\n",
    "        \"Chance\", make_array(0.5,        0.5))\n",
    "    sample = uniform.sample_from_distribution(..., ...)\n",
    "    \n",
    "    ... \n",
    "    \n",
    "    return ...\n"
   ]
  },
  {
   "cell_type": "code",
   "execution_count": null,
   "metadata": {},
   "outputs": [],
   "source": [
    "def empirical_distribution(tbl):\n",
    "    num_changes = ...\n",
    "    samples = make_array()\n",
    "    for i in np.arange(10000):\n",
    "        samples = np.append(samples, simulate_under_null(...)) \n",
    "    Table().with_column('Test statistic under null', samples).hist(bins=np.arange(0, max(samples) + max(samples) * 0.1, 2))\n",
    "    return samples"
   ]
  },
  {
   "cell_type": "code",
   "execution_count": null,
   "metadata": {},
   "outputs": [],
   "source": [
    "samples = empirical_distribution(...) "
   ]
  },
  {
   "cell_type": "code",
   "execution_count": null,
   "metadata": {},
   "outputs": [],
   "source": [
    "# Need to renumber test\n",
    "check('tests/q14.py')"
   ]
  },
  {
   "cell_type": "markdown",
   "metadata": {},
   "source": [
    "### <font color=blue> **Question 15.** </font>\n",
    "Complete the analysis as follows:\n",
    "\n",
    "1. Compute a P-value. (Hint: you can use np.count_nonzero())\n",
    "2. Using a 5% P-value cutoff, draw a conclusion about the null and alternative hypotheses.\n",
    "3. Describe your findings using simple, non-technical language. What does your analysis tell you about temperatures changes over time? What can you claim about causation from your statistical analysis?\n",
    "\n",
    "**P-value:** ... \n",
    "\n",
    "\n",
    "### <font color=blue> **Question 16 Discussion:** </font>\n",
    "What is your conclusion about the hypotheses?\n",
    "\n",
    "\n",
    "\n",
    "**Findings:** ..."
   ]
  },
  {
   "cell_type": "code",
   "execution_count": null,
   "metadata": {},
   "outputs": [],
   "source": [
    "pvalue = ...\n",
    "pvalue"
   ]
  },
  {
   "cell_type": "markdown",
   "metadata": {},
   "source": [
    "### <font color=blue> **Question 17.** </font>\n",
    "\n",
    "#### Summary\n",
    "You have tested for global warming two ways:\n",
    "\n",
    "1. You compared temperatures in 1850 with 2014.  You found that the observed increase was too large to have been random.\n",
    "2. You looked at all differences in temperature two years apart over a 35 year period, and found that there were far more increases than decreases, again, too many to be explained by random fluctuations.\n",
    "\n",
    "In both cases, you rejected the null hypothesis as improbable.\n",
    "\n",
    "<font color=blue>**Think back to the Olympic mini-project challenge question. Use what you have just learned to formulate a new strategy.<font>\n",
    "\n",
    "**Challenge Question:** Does the host country team have an advantage? Use a markdown cell to create a strategy to address this question. "
   ]
  },
  {
   "cell_type": "markdown",
   "metadata": {},
   "source": []
  },
  {
   "cell_type": "markdown",
   "metadata": {},
   "source": [
    "### <font color=blue> **Question 18.** </font>\n",
    "At the end of each lab, please include a reflection. \n",
    "* How did this lab go? \n",
    "* Have you used a t-test before in another class? Do you understand how to apply this test?\n",
    "* Were there questions you found especially challenging you would like your instructor to review in class? \n",
    "* How long did the lab take you to complete?\n",
    "\n",
    "Share your feedback so we can continue to improve this class!\n",
    "\n",
    "**In the markdown cell below this one write your reflection on this lab.**"
   ]
  },
  {
   "cell_type": "markdown",
   "metadata": {},
   "source": [
    "I did pretty well on the first 10, they were challenging but I was able to figure them out pretty well. I got complteely stumped at 11 and everything after that.\n",
    "I have not used t-test before but I do understand how to apply it.\n",
    "Please review everything from 11 on.\n",
    "1-10 took me a little over an hour but the others stumped me for a while."
   ]
  },
  {
   "cell_type": "code",
   "execution_count": null,
   "metadata": {},
   "outputs": [],
   "source": [
    "# For your convenience, you can run this cell to run all the tests at once!\n",
    "import glob\n",
    "from gofer.ok import check\n",
    "correct = 0\n",
    "checks = [1, 4, 5, 7, 11, 12, 13, 14]\n",
    "total = len(checks)\n",
    "for x in checks:\n",
    "    print('Testing question {}: '.format(str(x)))\n",
    "    g = check('tests/q{}.py'.format(str(x)))\n",
    "    if g.grade == 1.0:\n",
    "        print(\"Passed\")\n",
    "        correct += 1\n",
    "    else:\n",
    "        print('Failed')\n",
    "        display(g)\n",
    "\n",
    "print('Grade:  {}'.format(str(correct/total)))"
   ]
  },
  {
   "cell_type": "code",
   "execution_count": null,
   "metadata": {
    "tags": []
   },
   "outputs": [],
   "source": [
    "print(\"Nice work \",name, user)\n",
    "import time;\n",
    "localtime = time.asctime( time.localtime(time.time()) )\n",
    "print(\"Submitted @ \", localtime)"
   ]
  }
 ],
 "metadata": {
  "kernelspec": {
   "display_name": "Python 3 (ipykernel)",
   "language": "python",
   "name": "python3"
  },
  "language_info": {
   "codemirror_mode": {
    "name": "ipython",
    "version": 3
   },
   "file_extension": ".py",
   "mimetype": "text/x-python",
   "name": "python",
   "nbconvert_exporter": "python",
   "pygments_lexer": "ipython3",
   "version": "3.10.11"
  }
 },
 "nbformat": 4,
 "nbformat_minor": 4
}
